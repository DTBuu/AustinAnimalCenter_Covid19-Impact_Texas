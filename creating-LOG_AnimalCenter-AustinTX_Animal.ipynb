{
 "cells": [
  {
   "cell_type": "code",
   "execution_count": 1,
   "id": "clear-territory",
   "metadata": {},
   "outputs": [],
   "source": [
    "import numpy as np\n",
    "import pandas as pd"
   ]
  },
  {
   "cell_type": "code",
   "execution_count": 2,
   "id": "transparent-thomson",
   "metadata": {},
   "outputs": [],
   "source": [
    "# 0\n",
    "intake = pd.read_csv(\"preprocessed_AnimalCenter-AustinTX_Intakes.csv\")\n",
    "outcome = pd.read_csv(\"preprocessed_AnimalCenter-AustinTX_Outcomes.csv\")"
   ]
  },
  {
   "cell_type": "code",
   "execution_count": 3,
   "id": "sexual-atlanta",
   "metadata": {},
   "outputs": [
    {
     "name": "stdout",
     "output_type": "stream",
     "text": [
      "<class 'pandas.core.frame.DataFrame'>\n",
      "RangeIndex: 132238 entries, 0 to 132237\n",
      "Data columns (total 14 columns):\n",
      " #   Column          Non-Null Count   Dtype  \n",
      "---  ------          --------------   -----  \n",
      " 0   animal_id       132238 non-null  object \n",
      " 1   name            132235 non-null  object \n",
      " 2   found_location  132238 non-null  object \n",
      " 3   in_type         132238 non-null  object \n",
      " 4   in_condition    132238 non-null  object \n",
      " 5   animal_type     132238 non-null  object \n",
      " 6   in_sex          132238 non-null  object \n",
      " 7   in_age          132238 non-null  object \n",
      " 8   breed           132238 non-null  object \n",
      " 9   color           132238 non-null  object \n",
      " 10  in_date         132238 non-null  object \n",
      " 11  in_time1        132238 non-null  object \n",
      " 12  in_time2        132238 non-null  object \n",
      " 13  in_age2         132238 non-null  float64\n",
      "dtypes: float64(1), object(13)\n",
      "memory usage: 14.1+ MB\n"
     ]
    }
   ],
   "source": [
    "intake.info()"
   ]
  },
  {
   "cell_type": "code",
   "execution_count": 4,
   "id": "shared-marketplace",
   "metadata": {},
   "outputs": [
    {
     "name": "stdout",
     "output_type": "stream",
     "text": [
      "<class 'pandas.core.frame.DataFrame'>\n",
      "RangeIndex: 132336 entries, 0 to 132335\n",
      "Data columns (total 14 columns):\n",
      " #   Column         Non-Null Count   Dtype  \n",
      "---  ------         --------------   -----  \n",
      " 0   animal_id      132336 non-null  object \n",
      " 1   name           132333 non-null  object \n",
      " 2   date_of_birth  132336 non-null  object \n",
      " 3   out_type       132336 non-null  object \n",
      " 4   out_subtype    132336 non-null  object \n",
      " 5   animal_type    132336 non-null  object \n",
      " 6   out_sex        132336 non-null  object \n",
      " 7   out_age        132336 non-null  object \n",
      " 8   breed          132336 non-null  object \n",
      " 9   color          132336 non-null  object \n",
      " 10  out_date       132336 non-null  object \n",
      " 11  out_time1      132336 non-null  object \n",
      " 12  out_time2      132336 non-null  object \n",
      " 13  out_age2       132336 non-null  float64\n",
      "dtypes: float64(1), object(13)\n",
      "memory usage: 14.1+ MB\n"
     ]
    }
   ],
   "source": [
    "outcome.info()"
   ]
  },
  {
   "cell_type": "code",
   "execution_count": 5,
   "id": "outside-philippines",
   "metadata": {},
   "outputs": [],
   "source": [
    "#intake #extract columns: animal_id, name, animal_type, breed, color"
   ]
  },
  {
   "cell_type": "code",
   "execution_count": 6,
   "id": "surprised-newport",
   "metadata": {},
   "outputs": [],
   "source": [
    "#outcome #extract columns: animal_id, name, animal_type, breed, color"
   ]
  },
  {
   "cell_type": "code",
   "execution_count": 7,
   "id": "numerous-asian",
   "metadata": {},
   "outputs": [],
   "source": [
    "#intake[\"animal_id\"].isin(outcome[\"animal_id\"]).describe()"
   ]
  },
  {
   "cell_type": "code",
   "execution_count": 8,
   "id": "crazy-cologne",
   "metadata": {},
   "outputs": [],
   "source": [
    "# 1\n",
    "data1 = intake[[\"animal_id\", \"name\", \"animal_type\", \"breed\", \"color\"]].copy()\n",
    "data2 = outcome[[\"animal_id\", \"name\", \"animal_type\", \"breed\", \"color\"]].copy()"
   ]
  },
  {
   "cell_type": "code",
   "execution_count": 9,
   "id": "fantastic-discussion",
   "metadata": {},
   "outputs": [],
   "source": [
    "# 2\n",
    "data1.drop_duplicates(inplace=True)\n",
    "data2.drop_duplicates(inplace=True)"
   ]
  },
  {
   "cell_type": "code",
   "execution_count": 10,
   "id": "sharp-kingdom",
   "metadata": {},
   "outputs": [],
   "source": [
    "# 3\n",
    "data = data1.append(data2, ignore_index=True, sort=False)"
   ]
  },
  {
   "cell_type": "code",
   "execution_count": 11,
   "id": "economic-latex",
   "metadata": {},
   "outputs": [],
   "source": [
    "# 4\n",
    "data.drop_duplicates(inplace=True)"
   ]
  },
  {
   "cell_type": "code",
   "execution_count": 12,
   "id": "recognized-puppy",
   "metadata": {},
   "outputs": [
    {
     "data": {
      "text/html": [
       "<div>\n",
       "<style scoped>\n",
       "    .dataframe tbody tr th:only-of-type {\n",
       "        vertical-align: middle;\n",
       "    }\n",
       "\n",
       "    .dataframe tbody tr th {\n",
       "        vertical-align: top;\n",
       "    }\n",
       "\n",
       "    .dataframe thead th {\n",
       "        text-align: right;\n",
       "    }\n",
       "</style>\n",
       "<table border=\"1\" class=\"dataframe\">\n",
       "  <thead>\n",
       "    <tr style=\"text-align: right;\">\n",
       "      <th></th>\n",
       "      <th>animal_id</th>\n",
       "      <th>name</th>\n",
       "      <th>animal_type</th>\n",
       "      <th>breed</th>\n",
       "      <th>color</th>\n",
       "    </tr>\n",
       "  </thead>\n",
       "  <tbody>\n",
       "    <tr>\n",
       "      <th>0</th>\n",
       "      <td>A477934</td>\n",
       "      <td>Suzie Q</td>\n",
       "      <td>Dog</td>\n",
       "      <td>Pit Bull Mix</td>\n",
       "      <td>Red/White</td>\n",
       "    </tr>\n",
       "    <tr>\n",
       "      <th>1</th>\n",
       "      <td>A636021</td>\n",
       "      <td>Sera</td>\n",
       "      <td>Dog</td>\n",
       "      <td>Pit Bull Mix</td>\n",
       "      <td>Brown</td>\n",
       "    </tr>\n",
       "    <tr>\n",
       "      <th>2</th>\n",
       "      <td>A664299</td>\n",
       "      <td>Doc</td>\n",
       "      <td>Dog</td>\n",
       "      <td>Anatol Shepherd/Great Pyrenees</td>\n",
       "      <td>White/Tricolor</td>\n",
       "    </tr>\n",
       "    <tr>\n",
       "      <th>3</th>\n",
       "      <td>A658012</td>\n",
       "      <td>Lucio</td>\n",
       "      <td>Dog</td>\n",
       "      <td>Chihuahua Shorthair Mix</td>\n",
       "      <td>Red</td>\n",
       "    </tr>\n",
       "    <tr>\n",
       "      <th>4</th>\n",
       "      <td>A664284</td>\n",
       "      <td>Unknown</td>\n",
       "      <td>Cat</td>\n",
       "      <td>Domestic Shorthair Mix</td>\n",
       "      <td>Black/White</td>\n",
       "    </tr>\n",
       "    <tr>\n",
       "      <th>...</th>\n",
       "      <td>...</td>\n",
       "      <td>...</td>\n",
       "      <td>...</td>\n",
       "      <td>...</td>\n",
       "      <td>...</td>\n",
       "    </tr>\n",
       "    <tr>\n",
       "      <th>139547</th>\n",
       "      <td>A622036</td>\n",
       "      <td>Unknown</td>\n",
       "      <td>Cat</td>\n",
       "      <td>Domestic Shorthair Mix</td>\n",
       "      <td>Brown Tabby</td>\n",
       "    </tr>\n",
       "    <tr>\n",
       "      <th>141021</th>\n",
       "      <td>A658598</td>\n",
       "      <td>Lindy</td>\n",
       "      <td>Cat</td>\n",
       "      <td>Domestic Shorthair Mix</td>\n",
       "      <td>Blue Tabby</td>\n",
       "    </tr>\n",
       "    <tr>\n",
       "      <th>142566</th>\n",
       "      <td>A663083</td>\n",
       "      <td>Zack</td>\n",
       "      <td>Dog</td>\n",
       "      <td>Chinese Sharpei/Border Collie</td>\n",
       "      <td>Black/White</td>\n",
       "    </tr>\n",
       "    <tr>\n",
       "      <th>147556</th>\n",
       "      <td>A620557</td>\n",
       "      <td>Button</td>\n",
       "      <td>Cat</td>\n",
       "      <td>Domestic Shorthair Mix</td>\n",
       "      <td>Black</td>\n",
       "    </tr>\n",
       "    <tr>\n",
       "      <th>194921</th>\n",
       "      <td>A651995</td>\n",
       "      <td>Sugar</td>\n",
       "      <td>Dog</td>\n",
       "      <td>Staffordshire Mix</td>\n",
       "      <td>Brown/White</td>\n",
       "    </tr>\n",
       "  </tbody>\n",
       "</table>\n",
       "<p>119075 rows × 5 columns</p>\n",
       "</div>"
      ],
      "text/plain": [
       "       animal_id     name animal_type                           breed  \\\n",
       "0        A477934  Suzie Q         Dog                    Pit Bull Mix   \n",
       "1        A636021     Sera         Dog                    Pit Bull Mix   \n",
       "2        A664299      Doc         Dog  Anatol Shepherd/Great Pyrenees   \n",
       "3        A658012    Lucio         Dog         Chihuahua Shorthair Mix   \n",
       "4        A664284  Unknown         Cat          Domestic Shorthair Mix   \n",
       "...          ...      ...         ...                             ...   \n",
       "139547   A622036  Unknown         Cat          Domestic Shorthair Mix   \n",
       "141021   A658598    Lindy         Cat          Domestic Shorthair Mix   \n",
       "142566   A663083     Zack         Dog   Chinese Sharpei/Border Collie   \n",
       "147556   A620557   Button         Cat          Domestic Shorthair Mix   \n",
       "194921   A651995    Sugar         Dog               Staffordshire Mix   \n",
       "\n",
       "                 color  \n",
       "0            Red/White  \n",
       "1                Brown  \n",
       "2       White/Tricolor  \n",
       "3                  Red  \n",
       "4          Black/White  \n",
       "...                ...  \n",
       "139547     Brown Tabby  \n",
       "141021      Blue Tabby  \n",
       "142566     Black/White  \n",
       "147556           Black  \n",
       "194921     Brown/White  \n",
       "\n",
       "[119075 rows x 5 columns]"
      ]
     },
     "execution_count": 12,
     "metadata": {},
     "output_type": "execute_result"
    }
   ],
   "source": [
    "data"
   ]
  },
  {
   "cell_type": "code",
   "execution_count": 13,
   "id": "objective-implementation",
   "metadata": {},
   "outputs": [],
   "source": [
    "# 5\n",
    "data.to_csv(\"created_AnimalCenter-AustinTX_Animal.csv\", index=False)"
   ]
  },
  {
   "cell_type": "code",
   "execution_count": null,
   "id": "7f95e78b-db60-4f09-9a1e-0b32f7b3c7b5",
   "metadata": {},
   "outputs": [],
   "source": []
  }
 ],
 "metadata": {
  "kernelspec": {
   "display_name": "Python 3",
   "language": "python",
   "name": "python3"
  },
  "language_info": {
   "codemirror_mode": {
    "name": "ipython",
    "version": 3
   },
   "file_extension": ".py",
   "mimetype": "text/x-python",
   "name": "python",
   "nbconvert_exporter": "python",
   "pygments_lexer": "ipython3",
   "version": "3.9.0"
  }
 },
 "nbformat": 4,
 "nbformat_minor": 5
}
