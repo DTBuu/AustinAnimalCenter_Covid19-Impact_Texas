{
 "cells": [
  {
   "cell_type": "code",
   "execution_count": 24,
   "id": "clear-territory",
   "metadata": {},
   "outputs": [],
   "source": [
    "import numpy as np\n",
    "import pandas as pd"
   ]
  },
  {
   "cell_type": "code",
   "execution_count": 25,
   "id": "transparent-thomson",
   "metadata": {},
   "outputs": [],
   "source": [
    "intake = pd.read_csv(\"preprocessed_AnimalCenter-Intakes.csv\")\n",
    "outcome = pd.read_csv(\"preprocessed_AnimalCenter-Outcomes.csv\")"
   ]
  },
  {
   "cell_type": "code",
   "execution_count": 26,
   "id": "sexual-atlanta",
   "metadata": {},
   "outputs": [
    {
     "name": "stdout",
     "output_type": "stream",
     "text": [
      "<class 'pandas.core.frame.DataFrame'>\n",
      "RangeIndex: 128748 entries, 0 to 128747\n",
      "Data columns (total 14 columns):\n",
      " #   Column          Non-Null Count   Dtype  \n",
      "---  ------          --------------   -----  \n",
      " 0   animal_id       128748 non-null  object \n",
      " 1   name            128748 non-null  object \n",
      " 2   found_location  128748 non-null  object \n",
      " 3   in_type         128748 non-null  object \n",
      " 4   in_condition    128748 non-null  object \n",
      " 5   animal_type     128748 non-null  object \n",
      " 6   in_sex          128748 non-null  object \n",
      " 7   in_age          128748 non-null  object \n",
      " 8   breed           128748 non-null  object \n",
      " 9   color           128748 non-null  object \n",
      " 10  in_date         128748 non-null  object \n",
      " 11  in_time1        128748 non-null  object \n",
      " 12  in_time2        128748 non-null  object \n",
      " 13  in_age2         128748 non-null  float64\n",
      "dtypes: float64(1), object(13)\n",
      "memory usage: 13.8+ MB\n"
     ]
    }
   ],
   "source": [
    "intake.info()"
   ]
  },
  {
   "cell_type": "code",
   "execution_count": 27,
   "id": "shared-marketplace",
   "metadata": {},
   "outputs": [
    {
     "name": "stdout",
     "output_type": "stream",
     "text": [
      "<class 'pandas.core.frame.DataFrame'>\n",
      "RangeIndex: 128724 entries, 0 to 128723\n",
      "Data columns (total 14 columns):\n",
      " #   Column         Non-Null Count   Dtype  \n",
      "---  ------         --------------   -----  \n",
      " 0   animal_id      128724 non-null  object \n",
      " 1   name           128724 non-null  object \n",
      " 2   date_of_birth  128724 non-null  object \n",
      " 3   out_type       128724 non-null  object \n",
      " 4   out_subtype    128724 non-null  object \n",
      " 5   animal_type    128724 non-null  object \n",
      " 6   out_sex        128724 non-null  object \n",
      " 7   out_age        128724 non-null  object \n",
      " 8   breed          128724 non-null  object \n",
      " 9   color          128724 non-null  object \n",
      " 10  out_date       128724 non-null  object \n",
      " 11  out_time1      128724 non-null  object \n",
      " 12  out_time2      128724 non-null  object \n",
      " 13  out_age2       128724 non-null  float64\n",
      "dtypes: float64(1), object(13)\n",
      "memory usage: 13.7+ MB\n"
     ]
    }
   ],
   "source": [
    "outcome.info()"
   ]
  },
  {
   "cell_type": "code",
   "execution_count": 28,
   "id": "outside-philippines",
   "metadata": {},
   "outputs": [],
   "source": [
    "#intake #extract columns: animal_id, name, animal_type, breed, color"
   ]
  },
  {
   "cell_type": "code",
   "execution_count": 29,
   "id": "surprised-newport",
   "metadata": {},
   "outputs": [],
   "source": [
    "#outcome #extract columns: animal_id, name, animal_type, breed, color"
   ]
  },
  {
   "cell_type": "code",
   "execution_count": 30,
   "id": "numerous-asian",
   "metadata": {},
   "outputs": [],
   "source": [
    "#intake[\"animal_id\"].isin(outcome[\"animal_id\"]).describe()"
   ]
  },
  {
   "cell_type": "code",
   "execution_count": 31,
   "id": "crazy-cologne",
   "metadata": {},
   "outputs": [],
   "source": [
    "data1 = intake[[\"animal_id\", \"name\", \"animal_type\", \"breed\", \"color\"]].copy()\n",
    "data2 = outcome[[\"animal_id\", \"name\", \"animal_type\", \"breed\", \"color\"]].copy()"
   ]
  },
  {
   "cell_type": "code",
   "execution_count": 32,
   "id": "fantastic-discussion",
   "metadata": {},
   "outputs": [],
   "source": [
    "data1.drop_duplicates(inplace=True)\n",
    "data2.drop_duplicates(inplace=True)"
   ]
  },
  {
   "cell_type": "code",
   "execution_count": 33,
   "id": "sharp-kingdom",
   "metadata": {},
   "outputs": [],
   "source": [
    "data = data1.append(data2, ignore_index=True, sort=False)"
   ]
  },
  {
   "cell_type": "code",
   "execution_count": 34,
   "id": "economic-latex",
   "metadata": {},
   "outputs": [],
   "source": [
    "data.drop_duplicates(inplace=True)"
   ]
  },
  {
   "cell_type": "code",
   "execution_count": 35,
   "id": "recognized-puppy",
   "metadata": {},
   "outputs": [
    {
     "name": "stdout",
     "output_type": "stream",
     "text": [
      "<class 'pandas.core.frame.DataFrame'>\n",
      "Int64Index: 115938 entries, 0 to 191820\n",
      "Data columns (total 5 columns):\n",
      " #   Column       Non-Null Count   Dtype \n",
      "---  ------       --------------   ----- \n",
      " 0   animal_id    115938 non-null  object\n",
      " 1   name         115938 non-null  object\n",
      " 2   animal_type  115938 non-null  object\n",
      " 3   breed        115938 non-null  object\n",
      " 4   color        115938 non-null  object\n",
      "dtypes: object(5)\n",
      "memory usage: 5.3+ MB\n"
     ]
    }
   ],
   "source": [
    "data.info()"
   ]
  },
  {
   "cell_type": "code",
   "execution_count": 36,
   "id": "objective-implementation",
   "metadata": {},
   "outputs": [],
   "source": [
    "data.to_csv(\"created_AnimalCenter_Animal.csv\", index=False)"
   ]
  },
  {
   "cell_type": "code",
   "execution_count": null,
   "id": "imperial-application",
   "metadata": {},
   "outputs": [],
   "source": []
  },
  {
   "cell_type": "code",
   "execution_count": null,
   "id": "faced-mistake",
   "metadata": {},
   "outputs": [],
   "source": []
  }
 ],
 "metadata": {
  "kernelspec": {
   "display_name": "Python 3",
   "language": "python",
   "name": "python3"
  },
  "language_info": {
   "codemirror_mode": {
    "name": "ipython",
    "version": 3
   },
   "file_extension": ".py",
   "mimetype": "text/x-python",
   "name": "python",
   "nbconvert_exporter": "python",
   "pygments_lexer": "ipython3",
   "version": "3.8.5"
  }
 },
 "nbformat": 4,
 "nbformat_minor": 5
}
