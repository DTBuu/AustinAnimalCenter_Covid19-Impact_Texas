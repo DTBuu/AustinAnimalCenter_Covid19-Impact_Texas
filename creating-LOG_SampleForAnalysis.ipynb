{
 "cells": [
  {
   "cell_type": "code",
   "execution_count": 1,
   "metadata": {},
   "outputs": [],
   "source": [
    "import numpy as np\n",
    "import pandas as pd\n",
    "from datetime import datetime\n",
    "import scipy.stats"
   ]
  },
  {
   "cell_type": "code",
   "execution_count": 2,
   "metadata": {},
   "outputs": [],
   "source": [
    "# 0\n",
    "intakes = pd.read_csv(\"preprocessed_AnimalCenter-AustinTX_Intakes.csv\")\n",
    "outcomes = pd.read_csv(\"preprocessed_AnimalCenter-AustinTX_Outcomes.csv\")\n",
    "covid19 = pd.read_csv(\"preprocessed_Covid19-Texas.csv\")"
   ]
  },
  {
   "cell_type": "code",
   "execution_count": 3,
   "metadata": {},
   "outputs": [
    {
     "name": "stdout",
     "output_type": "stream",
     "text": [
      "<class 'pandas.core.frame.DataFrame'>\n",
      "RangeIndex: 132577 entries, 0 to 132576\n",
      "Data columns (total 14 columns):\n",
      " #   Column         Non-Null Count   Dtype  \n",
      "---  ------         --------------   -----  \n",
      " 0   animal_id      132577 non-null  object \n",
      " 1   name           132577 non-null  object \n",
      " 2   date_of_birth  132577 non-null  object \n",
      " 3   out_type       132577 non-null  object \n",
      " 4   out_subtype    132577 non-null  object \n",
      " 5   animal_type    132577 non-null  object \n",
      " 6   out_sex        132577 non-null  object \n",
      " 7   out_age        132577 non-null  object \n",
      " 8   breed          132577 non-null  object \n",
      " 9   color          132577 non-null  object \n",
      " 10  out_date       132577 non-null  object \n",
      " 11  out_time1      132577 non-null  object \n",
      " 12  out_time2      132577 non-null  object \n",
      " 13  out_age2       132577 non-null  float64\n",
      "dtypes: float64(1), object(13)\n",
      "memory usage: 14.2+ MB\n"
     ]
    }
   ],
   "source": [
    "outcomes.info()"
   ]
  },
  {
   "cell_type": "code",
   "execution_count": 4,
   "metadata": {},
   "outputs": [],
   "source": [
    "# 1\n",
    "intakes[\"in_date\"] = pd.to_datetime(intakes[\"in_date\"], format=\"%Y-%m-%d\")\n",
    "outcomes[\"out_date\"] = pd.to_datetime(outcomes[\"out_date\"], format=\"%Y-%m-%d\")\n",
    "covid19[\"date\"] = pd.to_datetime(covid19[\"date\"], format=\"%Y-%m-%d\")\n"
   ]
  },
  {
   "cell_type": "code",
   "execution_count": 5,
   "metadata": {},
   "outputs": [],
   "source": [
    "# 2\n",
    "intakes = intakes.loc[intakes[\"in_date\"] > datetime(2020, 3, 25), [\"in_date\", \"animal_id\"]].copy()\n",
    "outcomes = outcomes.loc[outcomes[\"out_date\"] > datetime(2020, 3, 25), [\"out_date\", \"animal_id\"]].copy()\n",
    "covid19 = covid19.loc[covid19[\"confirmed\"]>0, [\"date\", \"confirmed\", \"deaths\"]].copy()"
   ]
  },
  {
   "cell_type": "code",
   "execution_count": 6,
   "metadata": {},
   "outputs": [],
   "source": [
    "# 3\n",
    "intakes.rename(columns={\"in_date\":\"date\", \"animal_id\":\"intakes\"}, inplace=True)\n",
    "outcomes.rename(columns={\"out_date\":\"date\", \"animal_id\":\"outcomes\"}, inplace=True)"
   ]
  },
  {
   "cell_type": "code",
   "execution_count": 7,
   "metadata": {},
   "outputs": [],
   "source": [
    "# 4\n",
    "intakes = intakes.groupby(by=\"date\").count()\n",
    "outcomes = outcomes.groupby(by=\"date\").count()\n",
    "data1 = intakes.merge(outcomes, how=\"left\", on=\"date\")"
   ]
  },
  {
   "cell_type": "code",
   "execution_count": 8,
   "metadata": {},
   "outputs": [],
   "source": [
    "# 5\n",
    "data = data1.merge(covid19, how=\"left\", on=\"date\")"
   ]
  },
  {
   "cell_type": "code",
   "execution_count": 9,
   "metadata": {},
   "outputs": [],
   "source": [
    "# 6\n",
    "data[\"intakes\"].fillna(0, inplace=True)\n",
    "data[\"outcomes\"].fillna(0, inplace=True)\n",
    "data[\"confirmed\"].fillna(0, inplace=True)\n",
    "data[\"deaths\"].fillna(0, inplace=True)\n",
    "\n",
    "data[\"intakes\"] = data[\"intakes\"].astype(\"int\")\n",
    "data[\"outcomes\"] = data[\"outcomes\"].astype(\"int\")\n",
    "data[\"confirmed\"] = data[\"confirmed\"].astype(\"int\")\n",
    "data[\"deaths\"] = data[\"deaths\"].astype(\"int\")"
   ]
  },
  {
   "cell_type": "code",
   "execution_count": 10,
   "metadata": {},
   "outputs": [],
   "source": [
    "# 7\n",
    "data.to_csv(\"created_SampleForAnalysis.csv\", index=False)"
   ]
  },
  {
   "cell_type": "code",
   "execution_count": 11,
   "metadata": {},
   "outputs": [
    {
     "data": {
      "text/html": [
       "<div>\n",
       "<style scoped>\n",
       "    .dataframe tbody tr th:only-of-type {\n",
       "        vertical-align: middle;\n",
       "    }\n",
       "\n",
       "    .dataframe tbody tr th {\n",
       "        vertical-align: top;\n",
       "    }\n",
       "\n",
       "    .dataframe thead th {\n",
       "        text-align: right;\n",
       "    }\n",
       "</style>\n",
       "<table border=\"1\" class=\"dataframe\">\n",
       "  <thead>\n",
       "    <tr style=\"text-align: right;\">\n",
       "      <th></th>\n",
       "      <th>date</th>\n",
       "      <th>intakes</th>\n",
       "      <th>outcomes</th>\n",
       "      <th>confirmed</th>\n",
       "      <th>deaths</th>\n",
       "    </tr>\n",
       "  </thead>\n",
       "  <tbody>\n",
       "    <tr>\n",
       "      <th>0</th>\n",
       "      <td>2020-03-26</td>\n",
       "      <td>17</td>\n",
       "      <td>16</td>\n",
       "      <td>1</td>\n",
       "      <td>0</td>\n",
       "    </tr>\n",
       "    <tr>\n",
       "      <th>1</th>\n",
       "      <td>2020-03-27</td>\n",
       "      <td>5</td>\n",
       "      <td>16</td>\n",
       "      <td>1</td>\n",
       "      <td>0</td>\n",
       "    </tr>\n",
       "    <tr>\n",
       "      <th>2</th>\n",
       "      <td>2020-03-28</td>\n",
       "      <td>13</td>\n",
       "      <td>22</td>\n",
       "      <td>1</td>\n",
       "      <td>0</td>\n",
       "    </tr>\n",
       "    <tr>\n",
       "      <th>3</th>\n",
       "      <td>2020-03-29</td>\n",
       "      <td>8</td>\n",
       "      <td>14</td>\n",
       "      <td>2</td>\n",
       "      <td>0</td>\n",
       "    </tr>\n",
       "    <tr>\n",
       "      <th>4</th>\n",
       "      <td>2020-03-30</td>\n",
       "      <td>15</td>\n",
       "      <td>9</td>\n",
       "      <td>2</td>\n",
       "      <td>0</td>\n",
       "    </tr>\n",
       "    <tr>\n",
       "      <th>...</th>\n",
       "      <td>...</td>\n",
       "      <td>...</td>\n",
       "      <td>...</td>\n",
       "      <td>...</td>\n",
       "      <td>...</td>\n",
       "    </tr>\n",
       "    <tr>\n",
       "      <th>564</th>\n",
       "      <td>2021-10-13</td>\n",
       "      <td>50</td>\n",
       "      <td>39</td>\n",
       "      <td>3413</td>\n",
       "      <td>51</td>\n",
       "    </tr>\n",
       "    <tr>\n",
       "      <th>565</th>\n",
       "      <td>2021-10-14</td>\n",
       "      <td>40</td>\n",
       "      <td>25</td>\n",
       "      <td>3427</td>\n",
       "      <td>51</td>\n",
       "    </tr>\n",
       "    <tr>\n",
       "      <th>566</th>\n",
       "      <td>2021-10-15</td>\n",
       "      <td>78</td>\n",
       "      <td>37</td>\n",
       "      <td>3432</td>\n",
       "      <td>51</td>\n",
       "    </tr>\n",
       "    <tr>\n",
       "      <th>567</th>\n",
       "      <td>2021-10-16</td>\n",
       "      <td>25</td>\n",
       "      <td>23</td>\n",
       "      <td>3437</td>\n",
       "      <td>51</td>\n",
       "    </tr>\n",
       "    <tr>\n",
       "      <th>568</th>\n",
       "      <td>2021-10-17</td>\n",
       "      <td>20</td>\n",
       "      <td>21</td>\n",
       "      <td>0</td>\n",
       "      <td>0</td>\n",
       "    </tr>\n",
       "  </tbody>\n",
       "</table>\n",
       "<p>569 rows × 5 columns</p>\n",
       "</div>"
      ],
      "text/plain": [
       "          date  intakes  outcomes  confirmed  deaths\n",
       "0   2020-03-26       17        16          1       0\n",
       "1   2020-03-27        5        16          1       0\n",
       "2   2020-03-28       13        22          1       0\n",
       "3   2020-03-29        8        14          2       0\n",
       "4   2020-03-30       15         9          2       0\n",
       "..         ...      ...       ...        ...     ...\n",
       "564 2021-10-13       50        39       3413      51\n",
       "565 2021-10-14       40        25       3427      51\n",
       "566 2021-10-15       78        37       3432      51\n",
       "567 2021-10-16       25        23       3437      51\n",
       "568 2021-10-17       20        21          0       0\n",
       "\n",
       "[569 rows x 5 columns]"
      ]
     },
     "execution_count": 11,
     "metadata": {},
     "output_type": "execute_result"
    }
   ],
   "source": [
    "data"
   ]
  },
  {
   "cell_type": "code",
   "execution_count": 12,
   "metadata": {},
   "outputs": [],
   "source": [
    "#data2 = data[['intakes','outcomes','confirmed','deaths']]\n",
    "# scaler = StandardScaler()\n",
    "# data_scaled = scaler.fit_transform(data2.to_numpy())\n",
    "# data_scaled = pd.DataFrame(data_scaled, columns=['intakes','outcomes','confirmed','deaths'])"
   ]
  },
  {
   "cell_type": "code",
   "execution_count": null,
   "metadata": {},
   "outputs": [],
   "source": []
  },
  {
   "cell_type": "code",
   "execution_count": null,
   "metadata": {},
   "outputs": [],
   "source": []
  },
  {
   "cell_type": "code",
   "execution_count": 13,
   "metadata": {},
   "outputs": [
    {
     "data": {
      "text/plain": [
       "(0.4148119974805127, 4.516981982393535e-25)"
      ]
     },
     "execution_count": 13,
     "metadata": {},
     "output_type": "execute_result"
    }
   ],
   "source": [
    "scipy.stats.pearsonr(data[\"intakes\"], data[\"confirmed\"])"
   ]
  },
  {
   "cell_type": "code",
   "execution_count": 14,
   "metadata": {},
   "outputs": [
    {
     "data": {
      "text/plain": [
       "(0.45422367340487113, 2.5966464838737226e-30)"
      ]
     },
     "execution_count": 14,
     "metadata": {},
     "output_type": "execute_result"
    }
   ],
   "source": [
    "scipy.stats.pearsonr(data[\"confirmed\"], data[\"outcomes\"])"
   ]
  }
 ],
 "metadata": {
  "interpreter": {
   "hash": "c0a65c7804c83d5d29490780502c39d7f89ea76be701bbc396a15b3b8f16e33c"
  },
  "kernelspec": {
   "display_name": "Python 3.9.0 64-bit",
   "name": "python3"
  },
  "language_info": {
   "codemirror_mode": {
    "name": "ipython",
    "version": 3
   },
   "file_extension": ".py",
   "mimetype": "text/x-python",
   "name": "python",
   "nbconvert_exporter": "python",
   "pygments_lexer": "ipython3",
   "version": "3.9.0"
  }
 },
 "nbformat": 4,
 "nbformat_minor": 4
}
