{
 "cells": [
  {
   "cell_type": "code",
   "execution_count": 1,
   "id": "93a710b4",
   "metadata": {},
   "outputs": [],
   "source": [
    "import numpy as np\n",
    "import pandas as pd\n",
    "import datadotworld as dw\n",
    "from datetime import datetime"
   ]
  },
  {
   "cell_type": "code",
   "execution_count": 5,
   "id": "0dc53803",
   "metadata": {},
   "outputs": [
    {
     "name": "stdout",
     "output_type": "stream",
     "text": [
      "<class 'pandas.core.frame.DataFrame'>\n",
      "RangeIndex: 133515 entries, 0 to 133514\n",
      "Data columns (total 12 columns):\n",
      " #   Column            Non-Null Count   Dtype         \n",
      "---  ------            --------------   -----         \n",
      " 0   animal_id         133515 non-null  object        \n",
      " 1   name              92905 non-null   object        \n",
      " 2   datetime          133515 non-null  datetime64[ns]\n",
      " 3   monthyear         133515 non-null  datetime64[ns]\n",
      " 4   found_location    133515 non-null  object        \n",
      " 5   intake_type       133515 non-null  object        \n",
      " 6   intake_condition  133515 non-null  object        \n",
      " 7   animal_type       133515 non-null  object        \n",
      " 8   sex_upon_intake   133515 non-null  object        \n",
      " 9   age_upon_intake   133515 non-null  object        \n",
      " 10  breed             133515 non-null  object        \n",
      " 11  color             133515 non-null  object        \n",
      "dtypes: datetime64[ns](2), object(10)\n",
      "memory usage: 12.2+ MB\n"
     ]
    }
   ],
   "source": [
    "# 0\n",
    "        # Without authentication.\n",
    "        # data = pd.read_csv(\"https://query.data.world/s/nltr6xsnpwrhcfx4dacus3gc73kmbz\")\n",
    "        # data.info()\n",
    "\n",
    "query = dw.query(\n",
    "\t'siyeh/austin-animal-center-live-data', \n",
    "    'SELECT * FROM austin_animal_center_intakes')\n",
    "data = query.dataframe\n",
    "data.info()\n"
   ]
  },
  {
   "cell_type": "markdown",
   "id": "44876ae7",
   "metadata": {},
   "source": [
    "<b>REMOVE duplicate rows, FILL null values</b>"
   ]
  },
  {
   "cell_type": "code",
   "execution_count": 38,
   "id": "59b0f8d4",
   "metadata": {},
   "outputs": [],
   "source": [
    "# 1\n",
    "data.drop_duplicates(inplace=True)"
   ]
  },
  {
   "cell_type": "code",
   "execution_count": 39,
   "id": "c1f400ba",
   "metadata": {},
   "outputs": [],
   "source": [
    "# 2\n",
    "data.drop(\"monthyear\", axis=1, inplace=True)"
   ]
  },
  {
   "cell_type": "code",
   "execution_count": 40,
   "id": "160c72f8",
   "metadata": {},
   "outputs": [],
   "source": [
    "# 3\n",
    "data[\"name\"].fillna(\"Unknown\", inplace=True)\n",
    "data[\"name\"] = data[\"name\"].str.replace(\"*\", \"\", regex=False)\n",
    "data.loc[data[\"name\"]==\"\", \"name\"] = \"Unknown\""
   ]
  },
  {
   "cell_type": "code",
   "execution_count": 41,
   "id": "b4ebdda5",
   "metadata": {},
   "outputs": [],
   "source": [
    "# 4\n",
    "data[\"sex_upon_intake\"].fillna(\"Unknown\", inplace=True)"
   ]
  },
  {
   "cell_type": "markdown",
   "id": "4f1bf35f",
   "metadata": {},
   "source": [
    "<b>ADJUST & CREATE additional COLUMNS</b>"
   ]
  },
  {
   "cell_type": "code",
   "execution_count": 42,
   "id": "327797c2",
   "metadata": {},
   "outputs": [],
   "source": [
    "# 5\n",
    "data.loc[data[\"name\"]==data[\"animal_id\"], \"name\"] = \"Unknown\""
   ]
  },
  {
   "cell_type": "code",
   "execution_count": 43,
   "id": "952be1f3",
   "metadata": {},
   "outputs": [],
   "source": [
    "# 6\n",
    "data[\"in_time2\"] = np.where(data.datetime.dt.hour < 12, \"AM\", \"PM\")\n",
    "data[\"datetime\"] = data[\"datetime\"].astype(\"str\")\n",
    "data[[\"in_date\", \"in_time1\"]] = data[\"datetime\"].str.split(pat=\" \", n=1, expand=True)"
   ]
  },
  {
   "cell_type": "code",
   "execution_count": 46,
   "id": "b5412f86",
   "metadata": {},
   "outputs": [],
   "source": [
    "# 7\n",
    "data[\"in_date\"] = pd.to_datetime(data[\"in_date\"], format=\"%Y-%m-%d\")#.dt.strftime(\"%d/%m/%Y\")\n",
    "#data[\"in_date\"] = pd.to_datetime(data[\"in_date\"], format=\"%d/%m/%Y\")\n",
    "data.drop(\"datetime\", axis=1, inplace=True)"
   ]
  },
  {
   "cell_type": "code",
   "execution_count": 48,
   "id": "124e0981",
   "metadata": {},
   "outputs": [],
   "source": [
    "# 8\n",
    "data.rename(columns={\"intake_Type\":\"in_type\",\n",
    "                     \"intake_condition\":\"in_condition\",\n",
    "                     \"sex_upon_intake\":\"in_sex\",\n",
    "                     \"age_upon_intake\":\"in_age\"}, inplace=True)"
   ]
  },
  {
   "cell_type": "code",
   "execution_count": 49,
   "id": "c2fe8a13",
   "metadata": {},
   "outputs": [],
   "source": [
    "# 9\n",
    "data[[\"aui1\", \"aui2\"]] = data[\"in_age\"].str.split(n=1, expand=True)\n",
    "data[\"aui1\"] = data[\"aui1\"].astype(\"int\")\n",
    "data.loc[data[\"aui1\"]<0, \"aui1\"] = 0"
   ]
  },
  {
   "cell_type": "code",
   "execution_count": 50,
   "id": "be7ee069",
   "metadata": {},
   "outputs": [],
   "source": [
    "# 10\n",
    "conditions = [(data[\"aui2\"]==\"day\") | (data[\"aui2\"]==\"days\"),\n",
    "              (data[\"aui2\"]==\"week\") | (data[\"aui2\"]==\"weeks\"),\n",
    "              (data[\"aui2\"]==\"month\") | (data[\"aui2\"]==\"months\"),\n",
    "              (data[\"aui2\"]==\"year\") | (data[\"aui2\"]==\"years\")]\n",
    "values = [1/30, 7/30, 1, 12]\n",
    "data[\"aui3\"] = np.select(conditions, values)"
   ]
  },
  {
   "cell_type": "code",
   "execution_count": 51,
   "id": "b8c23955",
   "metadata": {},
   "outputs": [],
   "source": [
    "# 11\n",
    "data[\"in_age2\"] = data[\"aui1\"] * data[\"aui3\"]\n",
    "data.drop([\"aui1\", \"aui2\", \"aui3\"], axis=1, inplace=True)"
   ]
  },
  {
   "cell_type": "code",
   "execution_count": 52,
   "id": "170796e1",
   "metadata": {},
   "outputs": [],
   "source": [
    "# 12\n",
    "data.sort_values(by=\"in_date\", inplace=True)"
   ]
  },
  {
   "cell_type": "code",
   "execution_count": null,
   "id": "188d90a3-4d64-4d74-8e73-1233b3204d6e",
   "metadata": {},
   "outputs": [],
   "source": []
  },
  {
   "cell_type": "markdown",
   "id": "b2879eec",
   "metadata": {},
   "source": [
    "<b>EXPORT period for AnimalCenter-Calendar</b>"
   ]
  },
  {
   "cell_type": "code",
   "execution_count": null,
   "id": "4eaea048",
   "metadata": {},
   "outputs": [
    {
     "data": {
      "text/plain": [
       "'10/01/2013'"
      ]
     },
     "execution_count": 15,
     "metadata": {},
     "output_type": "execute_result"
    }
   ],
   "source": [
    "start = data.head(1)[\"in_date\"].copy()\n",
    "start = pd.to_datetime(start, format=\"%Y/%m/%d\").dt.strftime(\"%m/%d/%Y\").values[0]\n",
    "start"
   ]
  },
  {
   "cell_type": "code",
   "execution_count": null,
   "id": "1ca99d8f",
   "metadata": {},
   "outputs": [
    {
     "data": {
      "text/plain": [
       "'10/12/2021'"
      ]
     },
     "execution_count": 16,
     "metadata": {},
     "output_type": "execute_result"
    }
   ],
   "source": [
    "end = data.tail(1)[\"in_date\"].copy()\n",
    "end = pd.to_datetime(end, format=\"%Y/%m/%d\").dt.strftime(\"%m/%d/%Y\").values[0]\n",
    "end"
   ]
  },
  {
   "cell_type": "markdown",
   "id": "d179362b",
   "metadata": {},
   "source": [
    "<b>RECHECK data</b>"
   ]
  },
  {
   "cell_type": "code",
   "execution_count": null,
   "id": "b9e5944a",
   "metadata": {},
   "outputs": [
    {
     "name": "stdout",
     "output_type": "stream",
     "text": [
      "<class 'pandas.core.frame.DataFrame'>\n",
      "Int64Index: 132284 entries, 103868 to 129509\n",
      "Data columns (total 14 columns):\n",
      " #   Column          Non-Null Count   Dtype         \n",
      "---  ------          --------------   -----         \n",
      " 0   animal_id       132284 non-null  object        \n",
      " 1   name            132284 non-null  object        \n",
      " 2   found_location  132284 non-null  object        \n",
      " 3   in_type         132284 non-null  object        \n",
      " 4   in_condition    132284 non-null  object        \n",
      " 5   animal_type     132284 non-null  object        \n",
      " 6   in_sex          132284 non-null  object        \n",
      " 7   in_age          132284 non-null  object        \n",
      " 8   breed           132284 non-null  object        \n",
      " 9   color           132284 non-null  object        \n",
      " 10  in_date         132284 non-null  datetime64[ns]\n",
      " 11  in_time1        132284 non-null  object        \n",
      " 12  in_time2        132284 non-null  object        \n",
      " 13  in_age2         132284 non-null  float64       \n",
      "dtypes: datetime64[ns](1), float64(1), object(12)\n",
      "memory usage: 15.1+ MB\n"
     ]
    }
   ],
   "source": [
    "data.info()"
   ]
  },
  {
   "cell_type": "code",
   "execution_count": null,
   "id": "13177426",
   "metadata": {},
   "outputs": [
    {
     "data": {
      "text/html": [
       "<div>\n",
       "<style scoped>\n",
       "    .dataframe tbody tr th:only-of-type {\n",
       "        vertical-align: middle;\n",
       "    }\n",
       "\n",
       "    .dataframe tbody tr th {\n",
       "        vertical-align: top;\n",
       "    }\n",
       "\n",
       "    .dataframe thead th {\n",
       "        text-align: right;\n",
       "    }\n",
       "</style>\n",
       "<table border=\"1\" class=\"dataframe\">\n",
       "  <thead>\n",
       "    <tr style=\"text-align: right;\">\n",
       "      <th></th>\n",
       "      <th>animal_id</th>\n",
       "      <th>name</th>\n",
       "      <th>found_location</th>\n",
       "      <th>in_type</th>\n",
       "      <th>in_condition</th>\n",
       "      <th>animal_type</th>\n",
       "      <th>in_sex</th>\n",
       "      <th>in_age</th>\n",
       "      <th>breed</th>\n",
       "      <th>color</th>\n",
       "      <th>in_date</th>\n",
       "      <th>in_time1</th>\n",
       "      <th>in_time2</th>\n",
       "      <th>in_age2</th>\n",
       "    </tr>\n",
       "  </thead>\n",
       "  <tbody>\n",
       "    <tr>\n",
       "      <th>129509</th>\n",
       "      <td>A844094</td>\n",
       "      <td>Unknown</td>\n",
       "      <td>7201 Levander Loop in Austin (TX)</td>\n",
       "      <td>Abandoned</td>\n",
       "      <td>Normal</td>\n",
       "      <td>Dog</td>\n",
       "      <td>Intact Male</td>\n",
       "      <td>1 month</td>\n",
       "      <td>Labrador Retriever Mix</td>\n",
       "      <td>Brown/Black</td>\n",
       "      <td>2021-10-12</td>\n",
       "      <td>10:53:00</td>\n",
       "      <td>AM</td>\n",
       "      <td>1.000000</td>\n",
       "    </tr>\n",
       "    <tr>\n",
       "      <th>129573</th>\n",
       "      <td>A844111</td>\n",
       "      <td>Unknown</td>\n",
       "      <td>1111 Chicon Street in Austin (TX)</td>\n",
       "      <td>Stray</td>\n",
       "      <td>Injured</td>\n",
       "      <td>Cat</td>\n",
       "      <td>Intact Male</td>\n",
       "      <td>1 month</td>\n",
       "      <td>Domestic Shorthair</td>\n",
       "      <td>Brown Tabby/White</td>\n",
       "      <td>2021-10-12</td>\n",
       "      <td>01:25:00</td>\n",
       "      <td>PM</td>\n",
       "      <td>1.000000</td>\n",
       "    </tr>\n",
       "    <tr>\n",
       "      <th>129568</th>\n",
       "      <td>A844103</td>\n",
       "      <td>Unknown</td>\n",
       "      <td>1104 Walthon Lane in Austin (TX)</td>\n",
       "      <td>Stray</td>\n",
       "      <td>Normal</td>\n",
       "      <td>Cat</td>\n",
       "      <td>Intact Male</td>\n",
       "      <td>2 weeks</td>\n",
       "      <td>Domestic Shorthair Mix</td>\n",
       "      <td>Black</td>\n",
       "      <td>2021-10-12</td>\n",
       "      <td>12:23:00</td>\n",
       "      <td>PM</td>\n",
       "      <td>0.466667</td>\n",
       "    </tr>\n",
       "    <tr>\n",
       "      <th>129566</th>\n",
       "      <td>A844097</td>\n",
       "      <td>Mila</td>\n",
       "      <td>Austin (TX)</td>\n",
       "      <td>Owner Surrender</td>\n",
       "      <td>Normal</td>\n",
       "      <td>Dog</td>\n",
       "      <td>Intact Female</td>\n",
       "      <td>1 year</td>\n",
       "      <td>Pit Bull</td>\n",
       "      <td>Tan</td>\n",
       "      <td>2021-10-12</td>\n",
       "      <td>12:38:00</td>\n",
       "      <td>PM</td>\n",
       "      <td>12.000000</td>\n",
       "    </tr>\n",
       "    <tr>\n",
       "      <th>129618</th>\n",
       "      <td>A844123</td>\n",
       "      <td>Unknown</td>\n",
       "      <td>11408 Moored Rd in Austin (TX)</td>\n",
       "      <td>Stray</td>\n",
       "      <td>Injured</td>\n",
       "      <td>Cat</td>\n",
       "      <td>Intact Female</td>\n",
       "      <td>1 month</td>\n",
       "      <td>Domestic Shorthair</td>\n",
       "      <td>Black/White</td>\n",
       "      <td>2021-10-12</td>\n",
       "      <td>03:13:00</td>\n",
       "      <td>PM</td>\n",
       "      <td>1.000000</td>\n",
       "    </tr>\n",
       "    <tr>\n",
       "      <th>...</th>\n",
       "      <td>...</td>\n",
       "      <td>...</td>\n",
       "      <td>...</td>\n",
       "      <td>...</td>\n",
       "      <td>...</td>\n",
       "      <td>...</td>\n",
       "      <td>...</td>\n",
       "      <td>...</td>\n",
       "      <td>...</td>\n",
       "      <td>...</td>\n",
       "      <td>...</td>\n",
       "      <td>...</td>\n",
       "      <td>...</td>\n",
       "      <td>...</td>\n",
       "    </tr>\n",
       "    <tr>\n",
       "      <th>27394</th>\n",
       "      <td>A639030</td>\n",
       "      <td>Cate</td>\n",
       "      <td>46Th And Ave G in Austin (TX)</td>\n",
       "      <td>Stray</td>\n",
       "      <td>Normal</td>\n",
       "      <td>Dog</td>\n",
       "      <td>Spayed Female</td>\n",
       "      <td>7 years</td>\n",
       "      <td>German Shepherd Mix</td>\n",
       "      <td>Tan</td>\n",
       "      <td>2013-10-01</td>\n",
       "      <td>01:36:00</td>\n",
       "      <td>PM</td>\n",
       "      <td>84.000000</td>\n",
       "    </tr>\n",
       "    <tr>\n",
       "      <th>69140</th>\n",
       "      <td>A664305</td>\n",
       "      <td>Annabelle</td>\n",
       "      <td>12315 Rayden St. in Travis (TX)</td>\n",
       "      <td>Stray</td>\n",
       "      <td>Normal</td>\n",
       "      <td>Dog</td>\n",
       "      <td>Intact Female</td>\n",
       "      <td>1 month</td>\n",
       "      <td>Anatol Shepherd/Labrador Retriever</td>\n",
       "      <td>White</td>\n",
       "      <td>2013-10-01</td>\n",
       "      <td>04:10:00</td>\n",
       "      <td>PM</td>\n",
       "      <td>1.000000</td>\n",
       "    </tr>\n",
       "    <tr>\n",
       "      <th>39713</th>\n",
       "      <td>A664267</td>\n",
       "      <td>Asti</td>\n",
       "      <td>12501 Tech Ridge Blvd in Austin (TX)</td>\n",
       "      <td>Stray</td>\n",
       "      <td>Normal</td>\n",
       "      <td>Dog</td>\n",
       "      <td>Intact Female</td>\n",
       "      <td>4 months</td>\n",
       "      <td>Pit Bull Mix</td>\n",
       "      <td>White/Black</td>\n",
       "      <td>2013-10-01</td>\n",
       "      <td>11:59:00</td>\n",
       "      <td>AM</td>\n",
       "      <td>4.000000</td>\n",
       "    </tr>\n",
       "    <tr>\n",
       "      <th>37044</th>\n",
       "      <td>A656387</td>\n",
       "      <td>Ned</td>\n",
       "      <td>Austin (TX)</td>\n",
       "      <td>Owner Surrender</td>\n",
       "      <td>Normal</td>\n",
       "      <td>Dog</td>\n",
       "      <td>Neutered Male</td>\n",
       "      <td>2 years</td>\n",
       "      <td>Labrador Retriever/Chow Chow</td>\n",
       "      <td>Red/White</td>\n",
       "      <td>2013-10-01</td>\n",
       "      <td>07:05:00</td>\n",
       "      <td>PM</td>\n",
       "      <td>24.000000</td>\n",
       "    </tr>\n",
       "    <tr>\n",
       "      <th>103868</th>\n",
       "      <td>A477934</td>\n",
       "      <td>Suzie Q</td>\n",
       "      <td>3808 S. 1St St in Austin (TX)</td>\n",
       "      <td>Stray</td>\n",
       "      <td>Normal</td>\n",
       "      <td>Dog</td>\n",
       "      <td>Spayed Female</td>\n",
       "      <td>7 years</td>\n",
       "      <td>Pit Bull Mix</td>\n",
       "      <td>Red/White</td>\n",
       "      <td>2013-10-01</td>\n",
       "      <td>05:48:00</td>\n",
       "      <td>PM</td>\n",
       "      <td>84.000000</td>\n",
       "    </tr>\n",
       "  </tbody>\n",
       "</table>\n",
       "<p>132284 rows × 14 columns</p>\n",
       "</div>"
      ],
      "text/plain": [
       "       animal_id       name                        found_location  \\\n",
       "129509   A844094    Unknown     7201 Levander Loop in Austin (TX)   \n",
       "129573   A844111    Unknown     1111 Chicon Street in Austin (TX)   \n",
       "129568   A844103    Unknown      1104 Walthon Lane in Austin (TX)   \n",
       "129566   A844097       Mila                           Austin (TX)   \n",
       "129618   A844123    Unknown        11408 Moored Rd in Austin (TX)   \n",
       "...          ...        ...                                   ...   \n",
       "27394    A639030       Cate         46Th And Ave G in Austin (TX)   \n",
       "69140    A664305  Annabelle       12315 Rayden St. in Travis (TX)   \n",
       "39713    A664267       Asti  12501 Tech Ridge Blvd in Austin (TX)   \n",
       "37044    A656387        Ned                           Austin (TX)   \n",
       "103868   A477934    Suzie Q         3808 S. 1St St in Austin (TX)   \n",
       "\n",
       "                in_type in_condition animal_type         in_sex    in_age  \\\n",
       "129509        Abandoned       Normal         Dog    Intact Male   1 month   \n",
       "129573            Stray      Injured         Cat    Intact Male   1 month   \n",
       "129568            Stray       Normal         Cat    Intact Male   2 weeks   \n",
       "129566  Owner Surrender       Normal         Dog  Intact Female    1 year   \n",
       "129618            Stray      Injured         Cat  Intact Female   1 month   \n",
       "...                 ...          ...         ...            ...       ...   \n",
       "27394             Stray       Normal         Dog  Spayed Female   7 years   \n",
       "69140             Stray       Normal         Dog  Intact Female   1 month   \n",
       "39713             Stray       Normal         Dog  Intact Female  4 months   \n",
       "37044   Owner Surrender       Normal         Dog  Neutered Male   2 years   \n",
       "103868            Stray       Normal         Dog  Spayed Female   7 years   \n",
       "\n",
       "                                     breed              color    in_date  \\\n",
       "129509              Labrador Retriever Mix        Brown/Black 2021-10-12   \n",
       "129573                  Domestic Shorthair  Brown Tabby/White 2021-10-12   \n",
       "129568              Domestic Shorthair Mix              Black 2021-10-12   \n",
       "129566                            Pit Bull                Tan 2021-10-12   \n",
       "129618                  Domestic Shorthair        Black/White 2021-10-12   \n",
       "...                                    ...                ...        ...   \n",
       "27394                  German Shepherd Mix                Tan 2013-10-01   \n",
       "69140   Anatol Shepherd/Labrador Retriever              White 2013-10-01   \n",
       "39713                         Pit Bull Mix        White/Black 2013-10-01   \n",
       "37044         Labrador Retriever/Chow Chow          Red/White 2013-10-01   \n",
       "103868                        Pit Bull Mix          Red/White 2013-10-01   \n",
       "\n",
       "        in_time1 in_time2    in_age2  \n",
       "129509  10:53:00       AM   1.000000  \n",
       "129573  01:25:00       PM   1.000000  \n",
       "129568  12:23:00       PM   0.466667  \n",
       "129566  12:38:00       PM  12.000000  \n",
       "129618  03:13:00       PM   1.000000  \n",
       "...          ...      ...        ...  \n",
       "27394   01:36:00       PM  84.000000  \n",
       "69140   04:10:00       PM   1.000000  \n",
       "39713   11:59:00       AM   4.000000  \n",
       "37044   07:05:00       PM  24.000000  \n",
       "103868  05:48:00       PM  84.000000  \n",
       "\n",
       "[132284 rows x 14 columns]"
      ]
     },
     "execution_count": 19,
     "metadata": {},
     "output_type": "execute_result"
    }
   ],
   "source": [
    "data.sort_values(by=\"in_date\", ascending=False)"
   ]
  },
  {
   "cell_type": "code",
   "execution_count": null,
   "id": "3e182593",
   "metadata": {},
   "outputs": [],
   "source": [
    "#data.groupby(\"animal_id\").count().sort_values(by=\"name\").tail(50)"
   ]
  },
  {
   "cell_type": "code",
   "execution_count": null,
   "id": "ad0afb73",
   "metadata": {},
   "outputs": [],
   "source": [
    "#data[data[\"animal_id\"]==\"A700407\"].sort_values(by=\"in_date\")"
   ]
  },
  {
   "cell_type": "code",
   "execution_count": null,
   "id": "e02afe52",
   "metadata": {},
   "outputs": [],
   "source": []
  },
  {
   "cell_type": "markdown",
   "id": "cd9265f1",
   "metadata": {},
   "source": [
    "<b>EXPORT data</b>"
   ]
  },
  {
   "cell_type": "code",
   "execution_count": null,
   "id": "7a5479d1",
   "metadata": {},
   "outputs": [],
   "source": [
    "# 13\n",
    "data.to_csv(\"preprocessed_AnimalCenter-AustinTX_Intakes.csv\", index=False)"
   ]
  },
  {
   "cell_type": "code",
   "execution_count": null,
   "id": "b3c9ac32",
   "metadata": {},
   "outputs": [],
   "source": []
  }
 ],
 "metadata": {
  "interpreter": {
   "hash": "c0a65c7804c83d5d29490780502c39d7f89ea76be701bbc396a15b3b8f16e33c"
  },
  "kernelspec": {
   "display_name": "Python 3",
   "language": "python",
   "name": "python3"
  },
  "language_info": {
   "codemirror_mode": {
    "name": "ipython",
    "version": 3
   },
   "file_extension": ".py",
   "mimetype": "text/x-python",
   "name": "python",
   "nbconvert_exporter": "python",
   "pygments_lexer": "ipython3",
   "version": "3.9.0"
  },
  "toc-showtags": true
 },
 "nbformat": 4,
 "nbformat_minor": 5
}
