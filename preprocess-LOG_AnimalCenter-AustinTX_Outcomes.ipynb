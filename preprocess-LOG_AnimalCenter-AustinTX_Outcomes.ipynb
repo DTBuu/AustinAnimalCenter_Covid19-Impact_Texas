{
 "cells": [
  {
   "cell_type": "code",
   "execution_count": 37,
   "id": "academic-transformation",
   "metadata": {},
   "outputs": [],
   "source": [
    "import numpy as np\n",
    "import pandas as pd\n",
    "from datetime import datetime\n",
    "import datadotworld as dw"
   ]
  },
  {
   "cell_type": "code",
   "execution_count": 38,
   "id": "shared-grounds",
   "metadata": {},
   "outputs": [
    {
     "name": "stdout",
     "output_type": "stream",
     "text": [
      "<class 'pandas.core.frame.DataFrame'>\n",
      "RangeIndex: 133527 entries, 0 to 133526\n",
      "Data columns (total 12 columns):\n",
      " #   Column            Non-Null Count   Dtype         \n",
      "---  ------            --------------   -----         \n",
      " 0   animal_id         133527 non-null  object        \n",
      " 1   name              92947 non-null   object        \n",
      " 2   datetime          133527 non-null  datetime64[ns]\n",
      " 3   monthyear         133527 non-null  datetime64[ns]\n",
      " 4   date_of_birth     133527 non-null  object        \n",
      " 5   outcome_type      133502 non-null  object        \n",
      " 6   outcome_subtype   61302 non-null   object        \n",
      " 7   animal_type       133527 non-null  object        \n",
      " 8   sex_upon_outcome  133527 non-null  object        \n",
      " 9   age_upon_outcome  133527 non-null  object        \n",
      " 10  breed             133527 non-null  object        \n",
      " 11  color             133527 non-null  object        \n",
      "dtypes: datetime64[ns](2), object(10)\n",
      "memory usage: 12.2+ MB\n"
     ]
    }
   ],
   "source": [
    "# 0\n",
    "        # Without authentication.\n",
    "        # data = pd.read_csv(\"https://query.data.world/s/xiz7cr6gvmuegh4bcl4r2trdrz5hnp\")\n",
    "        # data.info()\n",
    "query = dw.query('siyeh/austin-animal-center-live-data', \n",
    "                 'SELECT * FROM austin_animal_center_outcomes')\n",
    "data = query.dataframe\n",
    "data.info()"
   ]
  },
  {
   "cell_type": "markdown",
   "id": "caring-spell",
   "metadata": {},
   "source": [
    "<b>REMOVE duplicate rows, FILL null values</b>"
   ]
  },
  {
   "cell_type": "code",
   "execution_count": 39,
   "id": "recreational-grocery",
   "metadata": {},
   "outputs": [],
   "source": [
    "# 1\n",
    "data.drop_duplicates(inplace=True)"
   ]
  },
  {
   "cell_type": "code",
   "execution_count": 40,
   "id": "young-defensive",
   "metadata": {},
   "outputs": [],
   "source": [
    "# 2\n",
    "data.drop(\"monthyear\", axis=1, inplace=True)"
   ]
  },
  {
   "cell_type": "code",
   "execution_count": 42,
   "id": "incorporate-effort",
   "metadata": {},
   "outputs": [],
   "source": [
    "# 3\n",
    "data[\"name\"].fillna(\"Unknown\", inplace=True)\n",
    "data[\"name\"] = data[\"name\"].str.replace(\"*\", \"\", regex=False)\n",
    "data.loc[data[\"name\"]==\"\", \"name\"] = \"Unknown\""
   ]
  },
  {
   "cell_type": "code",
   "execution_count": 43,
   "id": "lightweight-lloyd",
   "metadata": {},
   "outputs": [],
   "source": [
    "# 4\n",
    "data[\"outcome_type\"].fillna(\"Unknown\", inplace=True)"
   ]
  },
  {
   "cell_type": "code",
   "execution_count": 44,
   "id": "everyday-sarah",
   "metadata": {},
   "outputs": [],
   "source": [
    "# 5\n",
    "data[\"outcome_subtype\"].fillna(\"No Subtype\", inplace=True)"
   ]
  },
  {
   "cell_type": "code",
   "execution_count": 45,
   "id": "naked-shanghai",
   "metadata": {},
   "outputs": [],
   "source": [
    "# 6\n",
    "data[\"sex_upon_outcome\"].fillna(\"Unknown\", inplace=True)"
   ]
  },
  {
   "cell_type": "code",
   "execution_count": 47,
   "id": "willing-mississippi",
   "metadata": {},
   "outputs": [],
   "source": [
    "# 7\n",
    "data[\"date_of_birth\"] = pd.to_datetime(data[\"date_of_birth\"], format=\"%Y-%m-%d\")\n",
    "\n",
    "#data.loc[data[\"Age upon Outcome\"].isnull()]\n",
    "#data.loc[data[\"Animal ID\"]==\"A834932\", \"Age upon Outcome\"] = \"1 year\"\n",
    "#data.loc[data[\"Animal ID\"]==\"A839109\", \"Age upon Outcome\"] = \"4 years\"\n",
    "#data.loc[data[\"Animal ID\"]==\"A837996\", \"Age upon Outcome\"] = \"3 years\""
   ]
  },
  {
   "cell_type": "markdown",
   "id": "durable-firmware",
   "metadata": {},
   "source": [
    "<b>ADJUST & CREATE additional COLUMNS</b>"
   ]
  },
  {
   "cell_type": "code",
   "execution_count": 48,
   "id": "human-university",
   "metadata": {},
   "outputs": [],
   "source": [
    "# 8\n",
    "data.loc[data[\"animal_id\"]==data[\"name\"], \"name\"] = \"Unknown\""
   ]
  },
  {
   "cell_type": "code",
   "execution_count": 49,
   "id": "present-shipping",
   "metadata": {},
   "outputs": [],
   "source": [
    "# 9\n",
    "data[\"out_time2\"] = np.where(data.datetime.dt.hour < 12, \"AM\", \"PM\")\n",
    "data[\"datetime\"] = data[\"datetime\"].astype(\"str\")\n",
    "data[[\"out_date\", \"out_time1\"]] = data[\"datetime\"].str.split(pat=\" \", n=1, expand=True)"
   ]
  },
  {
   "cell_type": "code",
   "execution_count": 50,
   "id": "fabulous-intelligence",
   "metadata": {},
   "outputs": [],
   "source": [
    "# 10\n",
    "data[\"out_date\"] = pd.to_datetime(data[\"out_date\"], format=\"%Y-%m-%d\")\n",
    "data.drop(\"datetime\", axis=1, inplace=True)"
   ]
  },
  {
   "cell_type": "code",
   "execution_count": 52,
   "id": "communist-massage",
   "metadata": {},
   "outputs": [],
   "source": [
    "# 11\n",
    "data.rename(columns={\"outcome_type\":\"out_type\",\n",
    "                     \"outcome_subtype\":\"out_subtype\",\n",
    "                     \"sex_upon_outcome\":\"out_sex\",\n",
    "                     \"age_upon_outcome\":\"out_age\"}, inplace=True)"
   ]
  },
  {
   "cell_type": "code",
   "execution_count": 58,
   "id": "9a034368",
   "metadata": {},
   "outputs": [
    {
     "data": {
      "text/html": [
       "<div>\n",
       "<style scoped>\n",
       "    .dataframe tbody tr th:only-of-type {\n",
       "        vertical-align: middle;\n",
       "    }\n",
       "\n",
       "    .dataframe tbody tr th {\n",
       "        vertical-align: top;\n",
       "    }\n",
       "\n",
       "    .dataframe thead th {\n",
       "        text-align: right;\n",
       "    }\n",
       "</style>\n",
       "<table border=\"1\" class=\"dataframe\">\n",
       "  <thead>\n",
       "    <tr style=\"text-align: right;\">\n",
       "      <th></th>\n",
       "      <th>animal_id</th>\n",
       "      <th>name</th>\n",
       "      <th>date_of_birth</th>\n",
       "      <th>out_type</th>\n",
       "      <th>out_subtype</th>\n",
       "      <th>animal_type</th>\n",
       "      <th>out_sex</th>\n",
       "      <th>out_age</th>\n",
       "      <th>breed</th>\n",
       "      <th>color</th>\n",
       "      <th>out_time2</th>\n",
       "      <th>out_date</th>\n",
       "      <th>out_time1</th>\n",
       "    </tr>\n",
       "  </thead>\n",
       "  <tbody>\n",
       "  </tbody>\n",
       "</table>\n",
       "</div>"
      ],
      "text/plain": [
       "Empty DataFrame\n",
       "Columns: [animal_id, name, date_of_birth, out_type, out_subtype, animal_type, out_sex, out_age, breed, color, out_time2, out_date, out_time1]\n",
       "Index: []"
      ]
     },
     "execution_count": 58,
     "metadata": {},
     "output_type": "execute_result"
    }
   ],
   "source": [
    "data[data[\"out_age\"].isnull()]"
   ]
  },
  {
   "cell_type": "code",
   "execution_count": 59,
   "id": "rising-killing",
   "metadata": {},
   "outputs": [],
   "source": [
    "# 12\n",
    "col1 = data[data[\"out_age\"].isnull()][\"out_date\"].copy()\n",
    "col2 = data[data[\"out_age\"].isnull()][\"date_of_birth\"].copy()\n",
    "data.loc[data[\"out_age\"].isnull(), \"out_age\"] = (col1 - col2).astype(\"str\")\n",
    "\n",
    "col1 = data[data[\"out_age\"]==\"NULL\"][\"out_date\"].copy()\n",
    "col2 = data[data[\"out_age\"]==\"NULL\"][\"date_of_birth\"].copy()\n",
    "data.loc[data[\"out_age\"]==\"NULL\", \"out_age\"] = (col1 - col2).astype(\"str\")"
   ]
  },
  {
   "cell_type": "code",
   "execution_count": 60,
   "id": "civilian-promise",
   "metadata": {},
   "outputs": [],
   "source": [
    "# 13\n",
    "data[[\"auo1\", \"auo2\"]] = data[\"out_age\"].str.split(n=1, expand=True)\n",
    "data[\"auo1\"] = data[\"auo1\"].astype(\"int\")\n",
    "data.loc[data[\"auo1\"]<0, \"auo1\"] = 0"
   ]
  },
  {
   "cell_type": "code",
   "execution_count": 61,
   "id": "assigned-linux",
   "metadata": {},
   "outputs": [],
   "source": [
    "# 14\n",
    "conditions = [(data[\"auo2\"]==\"day\") | (data[\"auo2\"]==\"days\"),\n",
    "              (data[\"auo2\"]==\"week\") | (data[\"auo2\"]==\"weeks\"),\n",
    "              (data[\"auo2\"]==\"month\") | (data[\"auo2\"]==\"months\"),\n",
    "              (data[\"auo2\"]==\"year\") | (data[\"auo2\"]==\"years\"),]\n",
    "values = [1/30, 1/(30/7), 1, 12]\n",
    "data[\"auo3\"] = np.select(conditions, values)"
   ]
  },
  {
   "cell_type": "code",
   "execution_count": 62,
   "id": "written-emerald",
   "metadata": {},
   "outputs": [],
   "source": [
    "# 15\n",
    "data[\"out_age2\"] = data[\"auo1\"] * data[\"auo3\"]\n",
    "data.drop([\"auo1\", \"auo2\", \"auo3\"], axis=1, inplace=True)"
   ]
  },
  {
   "cell_type": "code",
   "execution_count": 63,
   "id": "attempted-destination",
   "metadata": {},
   "outputs": [],
   "source": [
    "# 16\n",
    "data.sort_values(by=\"out_date\", inplace=True)"
   ]
  },
  {
   "cell_type": "markdown",
   "id": "reverse-washington",
   "metadata": {},
   "source": [
    "<b>RECHECK data</b>"
   ]
  },
  {
   "cell_type": "code",
   "execution_count": null,
   "id": "difficult-orlando",
   "metadata": {},
   "outputs": [
    {
     "name": "stdout",
     "output_type": "stream",
     "text": [
      "<class 'pandas.core.frame.DataFrame'>\n",
      "Int64Index: 132410 entries, 104789 to 132425\n",
      "Data columns (total 14 columns):\n",
      " #   Column         Non-Null Count   Dtype         \n",
      "---  ------         --------------   -----         \n",
      " 0   animal_id      132410 non-null  object        \n",
      " 1   name           132410 non-null  object        \n",
      " 2   date_of_birth  132410 non-null  datetime64[ns]\n",
      " 3   out_type       132410 non-null  object        \n",
      " 4   out_subtype    132410 non-null  object        \n",
      " 5   animal_type    132410 non-null  object        \n",
      " 6   out_sex        132410 non-null  object        \n",
      " 7   out_age        132410 non-null  object        \n",
      " 8   breed          132410 non-null  object        \n",
      " 9   color          132410 non-null  object        \n",
      " 10  out_date       132410 non-null  datetime64[ns]\n",
      " 11  out_time1      132410 non-null  object        \n",
      " 12  out_time2      132410 non-null  object        \n",
      " 13  out_age2       132410 non-null  float64       \n",
      "dtypes: datetime64[ns](2), float64(1), object(11)\n",
      "memory usage: 15.2+ MB\n"
     ]
    }
   ],
   "source": [
    "data.info()"
   ]
  },
  {
   "cell_type": "code",
   "execution_count": null,
   "id": "guilty-tamil",
   "metadata": {},
   "outputs": [
    {
     "data": {
      "text/html": [
       "<div>\n",
       "<style scoped>\n",
       "    .dataframe tbody tr th:only-of-type {\n",
       "        vertical-align: middle;\n",
       "    }\n",
       "\n",
       "    .dataframe tbody tr th {\n",
       "        vertical-align: top;\n",
       "    }\n",
       "\n",
       "    .dataframe thead th {\n",
       "        text-align: right;\n",
       "    }\n",
       "</style>\n",
       "<table border=\"1\" class=\"dataframe\">\n",
       "  <thead>\n",
       "    <tr style=\"text-align: right;\">\n",
       "      <th></th>\n",
       "      <th>animal_id</th>\n",
       "      <th>name</th>\n",
       "      <th>date_of_birth</th>\n",
       "      <th>out_type</th>\n",
       "      <th>out_subtype</th>\n",
       "      <th>animal_type</th>\n",
       "      <th>out_sex</th>\n",
       "      <th>out_age</th>\n",
       "      <th>breed</th>\n",
       "      <th>color</th>\n",
       "      <th>out_date</th>\n",
       "      <th>out_time1</th>\n",
       "      <th>out_time2</th>\n",
       "      <th>out_age2</th>\n",
       "    </tr>\n",
       "  </thead>\n",
       "  <tbody>\n",
       "    <tr>\n",
       "      <th>104789</th>\n",
       "      <td>A664260</td>\n",
       "      <td>Unknown</td>\n",
       "      <td>2013-09-10</td>\n",
       "      <td>Transfer</td>\n",
       "      <td>Partner</td>\n",
       "      <td>Cat</td>\n",
       "      <td>Intact Female</td>\n",
       "      <td>3 weeks</td>\n",
       "      <td>Domestic Shorthair Mix</td>\n",
       "      <td>Black/White</td>\n",
       "      <td>2013-10-01</td>\n",
       "      <td>01:00:00</td>\n",
       "      <td>PM</td>\n",
       "      <td>0.700000</td>\n",
       "    </tr>\n",
       "    <tr>\n",
       "      <th>108452</th>\n",
       "      <td>A664263</td>\n",
       "      <td>Unknown</td>\n",
       "      <td>2013-09-22</td>\n",
       "      <td>Transfer</td>\n",
       "      <td>Partner</td>\n",
       "      <td>Cat</td>\n",
       "      <td>Intact Male</td>\n",
       "      <td>1 weeks</td>\n",
       "      <td>Domestic Shorthair Mix</td>\n",
       "      <td>Orange Tabby</td>\n",
       "      <td>2013-10-01</td>\n",
       "      <td>12:58:00</td>\n",
       "      <td>PM</td>\n",
       "      <td>0.233333</td>\n",
       "    </tr>\n",
       "    <tr>\n",
       "      <th>67115</th>\n",
       "      <td>A664261</td>\n",
       "      <td>Unknown</td>\n",
       "      <td>2013-09-10</td>\n",
       "      <td>Transfer</td>\n",
       "      <td>Partner</td>\n",
       "      <td>Cat</td>\n",
       "      <td>Intact Female</td>\n",
       "      <td>3 weeks</td>\n",
       "      <td>Domestic Shorthair Mix</td>\n",
       "      <td>Tortie</td>\n",
       "      <td>2013-10-01</td>\n",
       "      <td>01:00:00</td>\n",
       "      <td>PM</td>\n",
       "      <td>0.700000</td>\n",
       "    </tr>\n",
       "    <tr>\n",
       "      <th>93236</th>\n",
       "      <td>A664225</td>\n",
       "      <td>Lou</td>\n",
       "      <td>2010-09-30</td>\n",
       "      <td>Return to Owner</td>\n",
       "      <td>No Subtype</td>\n",
       "      <td>Dog</td>\n",
       "      <td>Neutered Male</td>\n",
       "      <td>3 years</td>\n",
       "      <td>Shih Tzu Mix</td>\n",
       "      <td>Gray/White</td>\n",
       "      <td>2013-10-01</td>\n",
       "      <td>12:13:00</td>\n",
       "      <td>PM</td>\n",
       "      <td>36.000000</td>\n",
       "    </tr>\n",
       "    <tr>\n",
       "      <th>64607</th>\n",
       "      <td>A663935</td>\n",
       "      <td>Unknown</td>\n",
       "      <td>1999-09-26</td>\n",
       "      <td>Transfer</td>\n",
       "      <td>Partner</td>\n",
       "      <td>Dog</td>\n",
       "      <td>Intact Male</td>\n",
       "      <td>14 years</td>\n",
       "      <td>Chihuahua Shorthair Mix</td>\n",
       "      <td>Brown</td>\n",
       "      <td>2013-10-01</td>\n",
       "      <td>02:15:00</td>\n",
       "      <td>PM</td>\n",
       "      <td>168.000000</td>\n",
       "    </tr>\n",
       "    <tr>\n",
       "      <th>...</th>\n",
       "      <td>...</td>\n",
       "      <td>...</td>\n",
       "      <td>...</td>\n",
       "      <td>...</td>\n",
       "      <td>...</td>\n",
       "      <td>...</td>\n",
       "      <td>...</td>\n",
       "      <td>...</td>\n",
       "      <td>...</td>\n",
       "      <td>...</td>\n",
       "      <td>...</td>\n",
       "      <td>...</td>\n",
       "      <td>...</td>\n",
       "      <td>...</td>\n",
       "    </tr>\n",
       "    <tr>\n",
       "      <th>132399</th>\n",
       "      <td>A843059</td>\n",
       "      <td>Bear</td>\n",
       "      <td>2016-09-25</td>\n",
       "      <td>Rto-Adopt</td>\n",
       "      <td>No Subtype</td>\n",
       "      <td>Dog</td>\n",
       "      <td>Neutered Male</td>\n",
       "      <td>5 years</td>\n",
       "      <td>Great Pyrenees</td>\n",
       "      <td>White</td>\n",
       "      <td>2021-10-12</td>\n",
       "      <td>02:27:00</td>\n",
       "      <td>PM</td>\n",
       "      <td>60.000000</td>\n",
       "    </tr>\n",
       "    <tr>\n",
       "      <th>132400</th>\n",
       "      <td>A844032</td>\n",
       "      <td>Lilu</td>\n",
       "      <td>2019-10-11</td>\n",
       "      <td>Return to Owner</td>\n",
       "      <td>No Subtype</td>\n",
       "      <td>Dog</td>\n",
       "      <td>Intact Female</td>\n",
       "      <td>2 years</td>\n",
       "      <td>Pit Bull Mix</td>\n",
       "      <td>Brown</td>\n",
       "      <td>2021-10-12</td>\n",
       "      <td>02:26:00</td>\n",
       "      <td>PM</td>\n",
       "      <td>24.000000</td>\n",
       "    </tr>\n",
       "    <tr>\n",
       "      <th>132401</th>\n",
       "      <td>A842103</td>\n",
       "      <td>Lily</td>\n",
       "      <td>2021-07-29</td>\n",
       "      <td>Adoption</td>\n",
       "      <td>Foster</td>\n",
       "      <td>Cat</td>\n",
       "      <td>Spayed Female</td>\n",
       "      <td>2 months</td>\n",
       "      <td>Domestic Shorthair</td>\n",
       "      <td>Brown Tabby</td>\n",
       "      <td>2021-10-12</td>\n",
       "      <td>03:46:00</td>\n",
       "      <td>PM</td>\n",
       "      <td>2.000000</td>\n",
       "    </tr>\n",
       "    <tr>\n",
       "      <th>132391</th>\n",
       "      <td>A842468</td>\n",
       "      <td>Spooky</td>\n",
       "      <td>2021-08-09</td>\n",
       "      <td>Adoption</td>\n",
       "      <td>Foster</td>\n",
       "      <td>Cat</td>\n",
       "      <td>Neutered Male</td>\n",
       "      <td>2 months</td>\n",
       "      <td>Domestic Shorthair</td>\n",
       "      <td>Black Smoke</td>\n",
       "      <td>2021-10-12</td>\n",
       "      <td>12:40:00</td>\n",
       "      <td>PM</td>\n",
       "      <td>2.000000</td>\n",
       "    </tr>\n",
       "    <tr>\n",
       "      <th>132425</th>\n",
       "      <td>A844114</td>\n",
       "      <td>Unknown</td>\n",
       "      <td>2021-09-27</td>\n",
       "      <td>Transfer</td>\n",
       "      <td>Partner</td>\n",
       "      <td>Cat</td>\n",
       "      <td>Intact Male</td>\n",
       "      <td>2 weeks</td>\n",
       "      <td>Domestic Shorthair Mix</td>\n",
       "      <td>Black</td>\n",
       "      <td>2021-10-12</td>\n",
       "      <td>04:49:00</td>\n",
       "      <td>PM</td>\n",
       "      <td>0.466667</td>\n",
       "    </tr>\n",
       "  </tbody>\n",
       "</table>\n",
       "<p>132410 rows × 14 columns</p>\n",
       "</div>"
      ],
      "text/plain": [
       "       animal_id     name date_of_birth         out_type out_subtype  \\\n",
       "104789   A664260  Unknown    2013-09-10         Transfer     Partner   \n",
       "108452   A664263  Unknown    2013-09-22         Transfer     Partner   \n",
       "67115    A664261  Unknown    2013-09-10         Transfer     Partner   \n",
       "93236    A664225      Lou    2010-09-30  Return to Owner  No Subtype   \n",
       "64607    A663935  Unknown    1999-09-26         Transfer     Partner   \n",
       "...          ...      ...           ...              ...         ...   \n",
       "132399   A843059     Bear    2016-09-25        Rto-Adopt  No Subtype   \n",
       "132400   A844032     Lilu    2019-10-11  Return to Owner  No Subtype   \n",
       "132401   A842103     Lily    2021-07-29         Adoption      Foster   \n",
       "132391   A842468   Spooky    2021-08-09         Adoption      Foster   \n",
       "132425   A844114  Unknown    2021-09-27         Transfer     Partner   \n",
       "\n",
       "       animal_type        out_sex   out_age                    breed  \\\n",
       "104789         Cat  Intact Female   3 weeks   Domestic Shorthair Mix   \n",
       "108452         Cat    Intact Male   1 weeks   Domestic Shorthair Mix   \n",
       "67115          Cat  Intact Female   3 weeks   Domestic Shorthair Mix   \n",
       "93236          Dog  Neutered Male   3 years             Shih Tzu Mix   \n",
       "64607          Dog    Intact Male  14 years  Chihuahua Shorthair Mix   \n",
       "...            ...            ...       ...                      ...   \n",
       "132399         Dog  Neutered Male   5 years           Great Pyrenees   \n",
       "132400         Dog  Intact Female   2 years             Pit Bull Mix   \n",
       "132401         Cat  Spayed Female  2 months       Domestic Shorthair   \n",
       "132391         Cat  Neutered Male  2 months       Domestic Shorthair   \n",
       "132425         Cat    Intact Male   2 weeks   Domestic Shorthair Mix   \n",
       "\n",
       "               color   out_date out_time1 out_time2    out_age2  \n",
       "104789   Black/White 2013-10-01  01:00:00        PM    0.700000  \n",
       "108452  Orange Tabby 2013-10-01  12:58:00        PM    0.233333  \n",
       "67115         Tortie 2013-10-01  01:00:00        PM    0.700000  \n",
       "93236     Gray/White 2013-10-01  12:13:00        PM   36.000000  \n",
       "64607          Brown 2013-10-01  02:15:00        PM  168.000000  \n",
       "...              ...        ...       ...       ...         ...  \n",
       "132399         White 2021-10-12  02:27:00        PM   60.000000  \n",
       "132400         Brown 2021-10-12  02:26:00        PM   24.000000  \n",
       "132401   Brown Tabby 2021-10-12  03:46:00        PM    2.000000  \n",
       "132391   Black Smoke 2021-10-12  12:40:00        PM    2.000000  \n",
       "132425         Black 2021-10-12  04:49:00        PM    0.466667  \n",
       "\n",
       "[132410 rows x 14 columns]"
      ]
     },
     "execution_count": 81,
     "metadata": {},
     "output_type": "execute_result"
    }
   ],
   "source": [
    "data"
   ]
  },
  {
   "cell_type": "code",
   "execution_count": null,
   "id": "subtle-counter",
   "metadata": {},
   "outputs": [],
   "source": []
  },
  {
   "cell_type": "code",
   "execution_count": null,
   "id": "interior-alpha",
   "metadata": {},
   "outputs": [],
   "source": []
  },
  {
   "cell_type": "markdown",
   "id": "circular-springer",
   "metadata": {},
   "source": [
    "<b>EXPORT data</b>"
   ]
  },
  {
   "cell_type": "code",
   "execution_count": null,
   "id": "adequate-joseph",
   "metadata": {},
   "outputs": [],
   "source": [
    "# 17\n",
    "data.to_csv(\"preprocessed_AnimalCenter-AustinTX_Outcomes.csv\", index=False)"
   ]
  },
  {
   "cell_type": "code",
   "execution_count": null,
   "id": "metallic-rabbit",
   "metadata": {},
   "outputs": [
    {
     "name": "stdout",
     "output_type": "stream",
     "text": [
      "<class 'pandas.core.frame.DataFrame'>\n",
      "RangeIndex: 132410 entries, 0 to 132409\n",
      "Data columns (total 14 columns):\n",
      " #   Column         Non-Null Count   Dtype  \n",
      "---  ------         --------------   -----  \n",
      " 0   animal_id      132410 non-null  object \n",
      " 1   name           132410 non-null  object \n",
      " 2   date_of_birth  132410 non-null  object \n",
      " 3   out_type       132410 non-null  object \n",
      " 4   out_subtype    132410 non-null  object \n",
      " 5   animal_type    132410 non-null  object \n",
      " 6   out_sex        132410 non-null  object \n",
      " 7   out_age        132410 non-null  object \n",
      " 8   breed          132410 non-null  object \n",
      " 9   color          132410 non-null  object \n",
      " 10  out_date       132410 non-null  object \n",
      " 11  out_time1      132410 non-null  object \n",
      " 12  out_time2      132410 non-null  object \n",
      " 13  out_age2       132410 non-null  float64\n",
      "dtypes: float64(1), object(13)\n",
      "memory usage: 14.1+ MB\n"
     ]
    }
   ],
   "source": [
    "x = pd.read_csv(\"preprocessed_AnimalCenter-AustinTX_Outcomes.csv\")\n",
    "x.info()\n"
   ]
  },
  {
   "cell_type": "code",
   "execution_count": null,
   "id": "ee75ded4",
   "metadata": {},
   "outputs": [],
   "source": []
  },
  {
   "cell_type": "code",
   "execution_count": null,
   "id": "d87d1bdf",
   "metadata": {},
   "outputs": [],
   "source": []
  },
  {
   "cell_type": "code",
   "execution_count": null,
   "id": "b440bd1d",
   "metadata": {},
   "outputs": [],
   "source": []
  }
 ],
 "metadata": {
  "interpreter": {
   "hash": "c0a65c7804c83d5d29490780502c39d7f89ea76be701bbc396a15b3b8f16e33c"
  },
  "kernelspec": {
   "display_name": "Python 3",
   "language": "python",
   "name": "python3"
  },
  "language_info": {
   "codemirror_mode": {
    "name": "ipython",
    "version": 3
   },
   "file_extension": ".py",
   "mimetype": "text/x-python",
   "name": "python",
   "nbconvert_exporter": "python",
   "pygments_lexer": "ipython3",
   "version": "3.9.0"
  }
 },
 "nbformat": 4,
 "nbformat_minor": 5
}
