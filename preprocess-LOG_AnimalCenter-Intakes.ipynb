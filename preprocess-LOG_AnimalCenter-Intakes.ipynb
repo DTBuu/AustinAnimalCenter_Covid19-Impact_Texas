{
 "cells": [
  {
   "cell_type": "code",
   "execution_count": 5,
   "id": "listed-effectiveness",
   "metadata": {},
   "outputs": [],
   "source": [
    "import numpy as np\n",
    "import pandas as pd"
   ]
  },
  {
   "cell_type": "code",
   "execution_count": 6,
   "id": "coupled-guest",
   "metadata": {},
   "outputs": [
    {
     "name": "stdout",
     "output_type": "stream",
     "text": [
      "<class 'pandas.core.frame.DataFrame'>\n",
      "RangeIndex: 128767 entries, 0 to 128766\n",
      "Data columns (total 12 columns):\n",
      " #   Column            Non-Null Count   Dtype \n",
      "---  ------            --------------   ----- \n",
      " 0   Animal ID         128767 non-null  object\n",
      " 1   Name              88687 non-null   object\n",
      " 2   DateTime          128767 non-null  object\n",
      " 3   MonthYear         128767 non-null  object\n",
      " 4   Found Location    128767 non-null  object\n",
      " 5   Intake Type       128767 non-null  object\n",
      " 6   Intake Condition  128767 non-null  object\n",
      " 7   Animal Type       128767 non-null  object\n",
      " 8   Sex upon Intake   128766 non-null  object\n",
      " 9   Age upon Intake   128767 non-null  object\n",
      " 10  Breed             128767 non-null  object\n",
      " 11  Color             128767 non-null  object\n",
      "dtypes: object(12)\n",
      "memory usage: 11.8+ MB\n"
     ]
    }
   ],
   "source": [
    "# 0\n",
    "data = pd.read_csv(\"RAW_Austin-Texas_AnimalCenter-Intakes.csv\")\n",
    "data.info()"
   ]
  },
  {
   "cell_type": "markdown",
   "id": "legal-massachusetts",
   "metadata": {},
   "source": [
    "<b>REMOVE duplicate rows, FILL null values</b>"
   ]
  },
  {
   "cell_type": "code",
   "execution_count": 7,
   "id": "julian-bidding",
   "metadata": {},
   "outputs": [],
   "source": [
    "# \n",
    "data.drop_duplicates(inplace=True)"
   ]
  },
  {
   "cell_type": "code",
   "execution_count": 8,
   "id": "limited-yellow",
   "metadata": {},
   "outputs": [],
   "source": [
    "# \n",
    "data.drop(\"MonthYear\", axis=1, inplace=True)"
   ]
  },
  {
   "cell_type": "code",
   "execution_count": 9,
   "id": "relevant-paper",
   "metadata": {},
   "outputs": [],
   "source": [
    "# \n",
    "data[\"Name\"].fillna(\"Unknown\", inplace=True)\n",
    "data[\"Name\"] = data[\"Name\"].str.replace(\"*\", \"\", regex=False)\n",
    "data.loc[data[\"Name\"]==\"\", \"Name\"] = \"Unknown\""
   ]
  },
  {
   "cell_type": "code",
   "execution_count": 10,
   "id": "cubic-ethics",
   "metadata": {},
   "outputs": [],
   "source": [
    "# \n",
    "data[\"Sex upon Intake\"].fillna(\"Unknown\", inplace=True)"
   ]
  },
  {
   "cell_type": "markdown",
   "id": "ambient-symbol",
   "metadata": {},
   "source": [
    "<b>ADJUST & CREATE additional COLUMNS</b>"
   ]
  },
  {
   "cell_type": "code",
   "execution_count": 11,
   "id": "forward-amazon",
   "metadata": {},
   "outputs": [],
   "source": [
    "#\n",
    "data.loc[data[\"Name\"]==data[\"Animal ID\"], \"Name\"] = \"Unknown\""
   ]
  },
  {
   "cell_type": "code",
   "execution_count": 12,
   "id": "ecological-money",
   "metadata": {},
   "outputs": [],
   "source": [
    "# \n",
    "data[[\"in_date\", \"in_time1\", \"in_time2\"]] = data[\"DateTime\"].str.split(pat=\" \", n=2, expand=True)"
   ]
  },
  {
   "cell_type": "code",
   "execution_count": 13,
   "id": "silent-pharmaceutical",
   "metadata": {},
   "outputs": [],
   "source": [
    "# \n",
    "data[\"in_date\"] = pd.to_datetime(data[\"in_date\"], format=\"%m/%d/%Y\").dt.strftime(\"%d/%m/%Y\")\n",
    "data[\"in_date\"] = pd.to_datetime(data[\"in_date\"], format=\"%d/%m/%Y\")\n",
    "data.drop(\"DateTime\", axis=1, inplace=True)"
   ]
  },
  {
   "cell_type": "code",
   "execution_count": 14,
   "id": "twenty-africa",
   "metadata": {},
   "outputs": [],
   "source": [
    "#\n",
    "data.rename(columns={\"Animal ID\":\"animal_id\",\n",
    "                     \"Name\":\"name\",\n",
    "                     \"Breed\":\"breed\",\n",
    "                     \"Color\":\"color\",\n",
    "                     \"Found Location\":\"found_location\",\n",
    "                     \"Intake Type\":\"in_type\",\n",
    "                     \"Intake Condition\":\"in_condition\",\n",
    "                     \"Animal Type\":\"animal_type\",\n",
    "                     \"Sex upon Intake\":\"in_sex\",\n",
    "                     \"Age upon Intake\":\"in_age\"}, inplace=True)"
   ]
  },
  {
   "cell_type": "code",
   "execution_count": 15,
   "id": "confirmed-robin",
   "metadata": {},
   "outputs": [],
   "source": [
    "#\n",
    "data[[\"aui1\", \"aui2\"]] = data[\"in_age\"].str.split(n=1, expand=True)\n",
    "data[\"aui1\"] = data[\"aui1\"].astype(\"int\")\n",
    "data.loc[data[\"aui1\"]<0, \"aui1\"] = 0"
   ]
  },
  {
   "cell_type": "code",
   "execution_count": 16,
   "id": "corresponding-christian",
   "metadata": {},
   "outputs": [],
   "source": [
    "conditions = [(data[\"aui2\"]==\"day\") | (data[\"aui2\"]==\"days\"),\n",
    "              (data[\"aui2\"]==\"week\") | (data[\"aui2\"]==\"weeks\"),\n",
    "              (data[\"aui2\"]==\"month\") | (data[\"aui2\"]==\"months\"),\n",
    "              (data[\"aui2\"]==\"year\") | (data[\"aui2\"]==\"years\"),]\n",
    "values = [1/30, 1/(30/7), 1, 12]\n",
    "data[\"aui3\"] = np.select(conditions, values)"
   ]
  },
  {
   "cell_type": "code",
   "execution_count": 17,
   "id": "matched-novelty",
   "metadata": {},
   "outputs": [],
   "source": [
    "#\n",
    "data[\"in_age2\"] = data[\"aui1\"] * data[\"aui3\"]\n",
    "data.drop([\"aui1\", \"aui2\", \"aui3\"], axis=1, inplace=True)"
   ]
  },
  {
   "cell_type": "code",
   "execution_count": 18,
   "id": "living-spokesman",
   "metadata": {},
   "outputs": [],
   "source": [
    "data.sort_values(by=\"in_date\", inplace=True)"
   ]
  },
  {
   "cell_type": "markdown",
   "id": "human-lender",
   "metadata": {},
   "source": [
    "<b>RECHECK data</b>"
   ]
  },
  {
   "cell_type": "code",
   "execution_count": 19,
   "id": "expected-purchase",
   "metadata": {},
   "outputs": [
    {
     "name": "stdout",
     "output_type": "stream",
     "text": [
      "<class 'pandas.core.frame.DataFrame'>\n",
      "Int64Index: 128748 entries, 39880 to 128739\n",
      "Data columns (total 14 columns):\n",
      " #   Column          Non-Null Count   Dtype         \n",
      "---  ------          --------------   -----         \n",
      " 0   animal_id       128748 non-null  object        \n",
      " 1   name            128748 non-null  object        \n",
      " 2   found_location  128748 non-null  object        \n",
      " 3   in_type         128748 non-null  object        \n",
      " 4   in_condition    128748 non-null  object        \n",
      " 5   animal_type     128748 non-null  object        \n",
      " 6   in_sex          128748 non-null  object        \n",
      " 7   in_age          128748 non-null  object        \n",
      " 8   breed           128748 non-null  object        \n",
      " 9   color           128748 non-null  object        \n",
      " 10  in_date         128748 non-null  datetime64[ns]\n",
      " 11  in_time1        128748 non-null  object        \n",
      " 12  in_time2        128748 non-null  object        \n",
      " 13  in_age2         128748 non-null  float64       \n",
      "dtypes: datetime64[ns](1), float64(1), object(12)\n",
      "memory usage: 14.7+ MB\n"
     ]
    }
   ],
   "source": [
    "data.info()"
   ]
  },
  {
   "cell_type": "code",
   "execution_count": 21,
   "id": "clinical-coffee",
   "metadata": {},
   "outputs": [
    {
     "data": {
      "text/plain": [
       "array(['Stray', 'Owner Surrender', 'Public Assist', 'Euthanasia Request',\n",
       "       'Wildlife', 'Abandoned'], dtype=object)"
      ]
     },
     "execution_count": 21,
     "metadata": {},
     "output_type": "execute_result"
    }
   ],
   "source": [
    "data[\"in_type\"].unique()"
   ]
  },
  {
   "cell_type": "code",
   "execution_count": 22,
   "id": "loving-behalf",
   "metadata": {},
   "outputs": [
    {
     "data": {
      "text/plain": [
       "array(['Normal', 'Nursing', 'Injured', 'Sick', 'Other', 'Aged',\n",
       "       'Pregnant', 'Feral', 'Medical', 'Behavior', 'Space'], dtype=object)"
      ]
     },
     "execution_count": 22,
     "metadata": {},
     "output_type": "execute_result"
    }
   ],
   "source": [
    "data[\"in_condition\"].unique()"
   ]
  },
  {
   "cell_type": "code",
   "execution_count": 23,
   "id": "checked-champagne",
   "metadata": {},
   "outputs": [
    {
     "data": {
      "text/plain": [
       "array(['Intact Male', 'Intact Female', 'Spayed Female', 'Neutered Male',\n",
       "       'Unknown'], dtype=object)"
      ]
     },
     "execution_count": 23,
     "metadata": {},
     "output_type": "execute_result"
    }
   ],
   "source": [
    "data[\"in_sex\"].unique()"
   ]
  },
  {
   "cell_type": "code",
   "execution_count": 17,
   "id": "instrumental-reynolds",
   "metadata": {},
   "outputs": [],
   "source": [
    "#data.groupby(\"animal_id\").count().sort_values(by=\"name\").tail(50)"
   ]
  },
  {
   "cell_type": "code",
   "execution_count": 18,
   "id": "artistic-permit",
   "metadata": {},
   "outputs": [],
   "source": [
    "#data[data[\"animal_id\"]==\"A700407\"].sort_values(by=\"in_date\")"
   ]
  },
  {
   "cell_type": "code",
   "execution_count": 19,
   "id": "amended-skirt",
   "metadata": {},
   "outputs": [],
   "source": [
    "#len(data[data[\"animal_id\"]==\"A700407\"])"
   ]
  },
  {
   "cell_type": "code",
   "execution_count": null,
   "id": "jewish-parent",
   "metadata": {},
   "outputs": [],
   "source": []
  },
  {
   "cell_type": "markdown",
   "id": "technological-simpson",
   "metadata": {},
   "source": [
    "<b>EXPORT data</b>"
   ]
  },
  {
   "cell_type": "code",
   "execution_count": 20,
   "id": "religious-cooking",
   "metadata": {},
   "outputs": [],
   "source": [
    "#\n",
    "data.to_csv(\"preprocessed_AnimalCenter-Intakes.csv\", index=False)"
   ]
  },
  {
   "cell_type": "code",
   "execution_count": null,
   "id": "aware-namibia",
   "metadata": {},
   "outputs": [],
   "source": []
  }
 ],
 "metadata": {
  "kernelspec": {
   "display_name": "Python 3",
   "language": "python",
   "name": "python3"
  },
  "language_info": {
   "codemirror_mode": {
    "name": "ipython",
    "version": 3
   },
   "file_extension": ".py",
   "mimetype": "text/x-python",
   "name": "python",
   "nbconvert_exporter": "python",
   "pygments_lexer": "ipython3",
   "version": "3.8.5"
  }
 },
 "nbformat": 4,
 "nbformat_minor": 5
}
