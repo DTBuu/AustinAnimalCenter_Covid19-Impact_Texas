{
 "cells": [
  {
   "cell_type": "code",
   "execution_count": 1,
   "id": "academic-transformation",
   "metadata": {},
   "outputs": [],
   "source": [
    "import numpy as np\n",
    "import pandas as pd"
   ]
  },
  {
   "cell_type": "code",
   "execution_count": 2,
   "id": "shared-grounds",
   "metadata": {},
   "outputs": [
    {
     "name": "stdout",
     "output_type": "stream",
     "text": [
      "<class 'pandas.core.frame.DataFrame'>\n",
      "RangeIndex: 128740 entries, 0 to 128739\n",
      "Data columns (total 12 columns):\n",
      " #   Column            Non-Null Count   Dtype \n",
      "---  ------            --------------   ----- \n",
      " 0   Animal ID         128740 non-null  object\n",
      " 1   Name              88719 non-null   object\n",
      " 2   DateTime          128740 non-null  object\n",
      " 3   MonthYear         128740 non-null  object\n",
      " 4   Date of Birth     128740 non-null  object\n",
      " 5   Outcome Type      128716 non-null  object\n",
      " 6   Outcome Subtype   59349 non-null   object\n",
      " 7   Animal Type       128740 non-null  object\n",
      " 8   Sex upon Outcome  128739 non-null  object\n",
      " 9   Age upon Outcome  128737 non-null  object\n",
      " 10  Breed             128740 non-null  object\n",
      " 11  Color             128740 non-null  object\n",
      "dtypes: object(12)\n",
      "memory usage: 11.8+ MB\n"
     ]
    }
   ],
   "source": [
    "#\n",
    "data = pd.read_csv(\"RAW_Austin-Texas_AnimalCenter-Outcomes.csv\")\n",
    "data.info()"
   ]
  },
  {
   "cell_type": "markdown",
   "id": "caring-spell",
   "metadata": {},
   "source": [
    "<b>REMOVE duplicate rows, FILL null values</b>"
   ]
  },
  {
   "cell_type": "code",
   "execution_count": 3,
   "id": "recreational-grocery",
   "metadata": {},
   "outputs": [],
   "source": [
    "#\n",
    "data.drop_duplicates(inplace=True)"
   ]
  },
  {
   "cell_type": "code",
   "execution_count": 4,
   "id": "young-defensive",
   "metadata": {},
   "outputs": [],
   "source": [
    "#\n",
    "data.drop(\"MonthYear\", axis=1, inplace=True)"
   ]
  },
  {
   "cell_type": "code",
   "execution_count": 5,
   "id": "incorporate-effort",
   "metadata": {},
   "outputs": [],
   "source": [
    "#\n",
    "data[\"Name\"].fillna(\"Unknown\", inplace=True)\n",
    "data[\"Name\"] = data[\"Name\"].str.replace(\"*\", \"\", regex=False)\n",
    "data.loc[data[\"Name\"]==\"\", \"Name\"] = \"Unknown\""
   ]
  },
  {
   "cell_type": "code",
   "execution_count": 6,
   "id": "lightweight-lloyd",
   "metadata": {},
   "outputs": [],
   "source": [
    "#\n",
    "data[\"Outcome Type\"].fillna(\"Unknown\", inplace=True)"
   ]
  },
  {
   "cell_type": "code",
   "execution_count": 7,
   "id": "everyday-sarah",
   "metadata": {},
   "outputs": [],
   "source": [
    "#\n",
    "data[\"Outcome Subtype\"].fillna(\"No Subtype\", inplace=True)"
   ]
  },
  {
   "cell_type": "code",
   "execution_count": 8,
   "id": "naked-shanghai",
   "metadata": {},
   "outputs": [],
   "source": [
    "#\n",
    "data[\"Sex upon Outcome\"].fillna(\"Unknown\", inplace=True)"
   ]
  },
  {
   "cell_type": "code",
   "execution_count": 9,
   "id": "willing-mississippi",
   "metadata": {},
   "outputs": [],
   "source": [
    "#\n",
    "#data[data[\"Age upon Outcome\"].isnull()]\n",
    "data.loc[data[\"Animal ID\"]==\"A834932\", \"Age upon Outcome\"] = \"1 year\"\n",
    "data.loc[data[\"Animal ID\"]==\"A839109\", \"Age upon Outcome\"] = \"4 years\"\n",
    "data.loc[data[\"Animal ID\"]==\"A837996\", \"Age upon Outcome\"] = \"3 years\""
   ]
  },
  {
   "cell_type": "markdown",
   "id": "durable-firmware",
   "metadata": {},
   "source": [
    "<b>ADJUST & CREATE additional COLUMNS</b>"
   ]
  },
  {
   "cell_type": "code",
   "execution_count": 10,
   "id": "human-university",
   "metadata": {},
   "outputs": [],
   "source": [
    "#\n",
    "data.loc[data[\"Animal ID\"]==data[\"Name\"], \"Name\"] = \"Unknown\""
   ]
  },
  {
   "cell_type": "code",
   "execution_count": 11,
   "id": "present-shipping",
   "metadata": {},
   "outputs": [],
   "source": [
    "#\n",
    "data[[\"out_date\", \"out_time1\", \"out_time2\"]] = data[\"DateTime\"].str.split(pat=\" \", n=2, expand=True)"
   ]
  },
  {
   "cell_type": "code",
   "execution_count": 12,
   "id": "fabulous-intelligence",
   "metadata": {},
   "outputs": [],
   "source": [
    "# \n",
    "data[\"out_date\"] = pd.to_datetime(data[\"out_date\"], format=\"%m/%d/%Y\").dt.strftime(\"%d/%m/%Y\")\n",
    "data[\"out_date\"] = pd.to_datetime(data[\"out_date\"], format=\"%d/%m/%Y\")\n",
    "data.drop(\"DateTime\", axis=1, inplace=True)"
   ]
  },
  {
   "cell_type": "code",
   "execution_count": 13,
   "id": "primary-personality",
   "metadata": {},
   "outputs": [],
   "source": [
    "#data[data[\"animal_id\"]==\"A761266\"].sort_values(by=\"out_date\")\n",
    "# 01/10/2013\n",
    "# 17/07/2021"
   ]
  },
  {
   "cell_type": "code",
   "execution_count": 14,
   "id": "communist-massage",
   "metadata": {},
   "outputs": [],
   "source": [
    "#\n",
    "data.rename(columns={\"Animal ID\":\"animal_id\",\n",
    "                     \"Name\":\"name\",\n",
    "                     \"Date of Birth\":\"date_of_birth\",\n",
    "                     \"Color\":\"color\",\n",
    "                     \"Outcome Type\":\"out_type\",\n",
    "                     \"Outcome Subtype\":\"out_subtype\",\n",
    "                     \"Animal Type\":\"animal_type\",\n",
    "                     \"Sex upon Outcome\":\"out_sex\",\n",
    "                     \"Age upon Outcome\":\"out_age\",\n",
    "                     \"Breed\":\"breed\",\n",
    "                     \"Color\":\"color\"}, inplace=True)"
   ]
  },
  {
   "cell_type": "code",
   "execution_count": 15,
   "id": "civilian-promise",
   "metadata": {},
   "outputs": [],
   "source": [
    "#\n",
    "data[[\"auo1\", \"auo2\"]] = data[\"out_age\"].str.split(n=1, expand=True)\n",
    "data[\"auo1\"] = data[\"auo1\"].astype(\"int\")\n",
    "data.loc[data[\"auo1\"]<0, \"auo1\"] = 0"
   ]
  },
  {
   "cell_type": "code",
   "execution_count": 16,
   "id": "assigned-linux",
   "metadata": {},
   "outputs": [],
   "source": [
    "conditions = [(data[\"auo2\"]==\"day\") | (data[\"auo2\"]==\"days\"),\n",
    "              (data[\"auo2\"]==\"week\") | (data[\"auo2\"]==\"weeks\"),\n",
    "              (data[\"auo2\"]==\"month\") | (data[\"auo2\"]==\"months\"),\n",
    "              (data[\"auo2\"]==\"year\") | (data[\"auo2\"]==\"years\"),]\n",
    "values = [1/30, 1/(30/7), 1, 12]\n",
    "data[\"auo3\"] = np.select(conditions, values)"
   ]
  },
  {
   "cell_type": "code",
   "execution_count": 17,
   "id": "written-emerald",
   "metadata": {},
   "outputs": [],
   "source": [
    "#\n",
    "data[\"out_age2\"] = data[\"auo1\"] * data[\"auo3\"]\n",
    "data.drop([\"auo1\", \"auo2\", \"auo3\"], axis=1, inplace=True)"
   ]
  },
  {
   "cell_type": "code",
   "execution_count": 18,
   "id": "attempted-destination",
   "metadata": {},
   "outputs": [],
   "source": [
    "#\n",
    "data.sort_values(by=\"out_date\", inplace=True)"
   ]
  },
  {
   "cell_type": "markdown",
   "id": "reverse-washington",
   "metadata": {},
   "source": [
    "<b>RECHECK data</b>"
   ]
  },
  {
   "cell_type": "code",
   "execution_count": 19,
   "id": "difficult-orlando",
   "metadata": {},
   "outputs": [
    {
     "name": "stdout",
     "output_type": "stream",
     "text": [
      "<class 'pandas.core.frame.DataFrame'>\n",
      "Int64Index: 128724 entries, 67181 to 128739\n",
      "Data columns (total 14 columns):\n",
      " #   Column         Non-Null Count   Dtype         \n",
      "---  ------         --------------   -----         \n",
      " 0   animal_id      128724 non-null  object        \n",
      " 1   name           128724 non-null  object        \n",
      " 2   date_of_birth  128724 non-null  object        \n",
      " 3   out_type       128724 non-null  object        \n",
      " 4   out_subtype    128724 non-null  object        \n",
      " 5   animal_type    128724 non-null  object        \n",
      " 6   out_sex        128724 non-null  object        \n",
      " 7   out_age        128724 non-null  object        \n",
      " 8   breed          128724 non-null  object        \n",
      " 9   color          128724 non-null  object        \n",
      " 10  out_date       128724 non-null  datetime64[ns]\n",
      " 11  out_time1      128724 non-null  object        \n",
      " 12  out_time2      128724 non-null  object        \n",
      " 13  out_age2       128724 non-null  float64       \n",
      "dtypes: datetime64[ns](1), float64(1), object(12)\n",
      "memory usage: 14.7+ MB\n"
     ]
    }
   ],
   "source": [
    "data.info()"
   ]
  },
  {
   "cell_type": "code",
   "execution_count": 20,
   "id": "guilty-tamil",
   "metadata": {},
   "outputs": [
    {
     "data": {
      "text/html": [
       "<div>\n",
       "<style scoped>\n",
       "    .dataframe tbody tr th:only-of-type {\n",
       "        vertical-align: middle;\n",
       "    }\n",
       "\n",
       "    .dataframe tbody tr th {\n",
       "        vertical-align: top;\n",
       "    }\n",
       "\n",
       "    .dataframe thead th {\n",
       "        text-align: right;\n",
       "    }\n",
       "</style>\n",
       "<table border=\"1\" class=\"dataframe\">\n",
       "  <thead>\n",
       "    <tr style=\"text-align: right;\">\n",
       "      <th></th>\n",
       "      <th>animal_id</th>\n",
       "      <th>name</th>\n",
       "      <th>date_of_birth</th>\n",
       "      <th>out_type</th>\n",
       "      <th>out_subtype</th>\n",
       "      <th>animal_type</th>\n",
       "      <th>out_sex</th>\n",
       "      <th>out_age</th>\n",
       "      <th>breed</th>\n",
       "      <th>color</th>\n",
       "      <th>out_date</th>\n",
       "      <th>out_time1</th>\n",
       "      <th>out_time2</th>\n",
       "      <th>out_age2</th>\n",
       "    </tr>\n",
       "  </thead>\n",
       "  <tbody>\n",
       "    <tr>\n",
       "      <th>67181</th>\n",
       "      <td>A664261</td>\n",
       "      <td>Unknown</td>\n",
       "      <td>09/10/2013</td>\n",
       "      <td>Transfer</td>\n",
       "      <td>Partner</td>\n",
       "      <td>Cat</td>\n",
       "      <td>Intact Female</td>\n",
       "      <td>3 weeks</td>\n",
       "      <td>Domestic Shorthair Mix</td>\n",
       "      <td>Tortie</td>\n",
       "      <td>2013-10-01</td>\n",
       "      <td>01:00:00</td>\n",
       "      <td>PM</td>\n",
       "      <td>0.700000</td>\n",
       "    </tr>\n",
       "    <tr>\n",
       "      <th>48547</th>\n",
       "      <td>A663342</td>\n",
       "      <td>Deco</td>\n",
       "      <td>09/17/2012</td>\n",
       "      <td>Euthanasia</td>\n",
       "      <td>Behavior</td>\n",
       "      <td>Dog</td>\n",
       "      <td>Neutered Male</td>\n",
       "      <td>1 year</td>\n",
       "      <td>Chesa Bay Retr Mix</td>\n",
       "      <td>Red/White</td>\n",
       "      <td>2013-10-01</td>\n",
       "      <td>12:05:00</td>\n",
       "      <td>PM</td>\n",
       "      <td>12.000000</td>\n",
       "    </tr>\n",
       "    <tr>\n",
       "      <th>48441</th>\n",
       "      <td>A656894</td>\n",
       "      <td>Jake</td>\n",
       "      <td>04/22/2013</td>\n",
       "      <td>Adoption</td>\n",
       "      <td>No Subtype</td>\n",
       "      <td>Cat</td>\n",
       "      <td>Neutered Male</td>\n",
       "      <td>5 months</td>\n",
       "      <td>Domestic Shorthair Mix</td>\n",
       "      <td>Black</td>\n",
       "      <td>2013-10-01</td>\n",
       "      <td>11:53:00</td>\n",
       "      <td>AM</td>\n",
       "      <td>5.000000</td>\n",
       "    </tr>\n",
       "    <tr>\n",
       "      <th>46141</th>\n",
       "      <td>A664235</td>\n",
       "      <td>Unknown</td>\n",
       "      <td>09/24/2013</td>\n",
       "      <td>Transfer</td>\n",
       "      <td>Partner</td>\n",
       "      <td>Cat</td>\n",
       "      <td>Unknown</td>\n",
       "      <td>1 week</td>\n",
       "      <td>Domestic Shorthair Mix</td>\n",
       "      <td>Orange/White</td>\n",
       "      <td>2013-10-01</td>\n",
       "      <td>10:39:00</td>\n",
       "      <td>AM</td>\n",
       "      <td>0.233333</td>\n",
       "    </tr>\n",
       "    <tr>\n",
       "      <th>107465</th>\n",
       "      <td>A663888</td>\n",
       "      <td>Unknown</td>\n",
       "      <td>09/25/2011</td>\n",
       "      <td>Transfer</td>\n",
       "      <td>Partner</td>\n",
       "      <td>Dog</td>\n",
       "      <td>Spayed Female</td>\n",
       "      <td>2 years</td>\n",
       "      <td>Boxer Mix</td>\n",
       "      <td>Red/White</td>\n",
       "      <td>2013-10-01</td>\n",
       "      <td>11:13:00</td>\n",
       "      <td>AM</td>\n",
       "      <td>24.000000</td>\n",
       "    </tr>\n",
       "    <tr>\n",
       "      <th>...</th>\n",
       "      <td>...</td>\n",
       "      <td>...</td>\n",
       "      <td>...</td>\n",
       "      <td>...</td>\n",
       "      <td>...</td>\n",
       "      <td>...</td>\n",
       "      <td>...</td>\n",
       "      <td>...</td>\n",
       "      <td>...</td>\n",
       "      <td>...</td>\n",
       "      <td>...</td>\n",
       "      <td>...</td>\n",
       "      <td>...</td>\n",
       "      <td>...</td>\n",
       "    </tr>\n",
       "    <tr>\n",
       "      <th>128708</th>\n",
       "      <td>A831547</td>\n",
       "      <td>Leo</td>\n",
       "      <td>03/01/2021</td>\n",
       "      <td>Adoption</td>\n",
       "      <td>Foster</td>\n",
       "      <td>Cat</td>\n",
       "      <td>Neutered Male</td>\n",
       "      <td>4 months</td>\n",
       "      <td>Domestic Shorthair</td>\n",
       "      <td>Black/White</td>\n",
       "      <td>2021-07-17</td>\n",
       "      <td>09:48:00</td>\n",
       "      <td>AM</td>\n",
       "      <td>4.000000</td>\n",
       "    </tr>\n",
       "    <tr>\n",
       "      <th>128707</th>\n",
       "      <td>A831545</td>\n",
       "      <td>April</td>\n",
       "      <td>03/01/2021</td>\n",
       "      <td>Adoption</td>\n",
       "      <td>Foster</td>\n",
       "      <td>Cat</td>\n",
       "      <td>Spayed Female</td>\n",
       "      <td>4 months</td>\n",
       "      <td>Domestic Shorthair</td>\n",
       "      <td>Black/White</td>\n",
       "      <td>2021-07-17</td>\n",
       "      <td>09:48:00</td>\n",
       "      <td>AM</td>\n",
       "      <td>4.000000</td>\n",
       "    </tr>\n",
       "    <tr>\n",
       "      <th>128738</th>\n",
       "      <td>A835526</td>\n",
       "      <td>Lily</td>\n",
       "      <td>05/28/2019</td>\n",
       "      <td>Adoption</td>\n",
       "      <td>No Subtype</td>\n",
       "      <td>Dog</td>\n",
       "      <td>Spayed Female</td>\n",
       "      <td>2 years</td>\n",
       "      <td>German Shepherd</td>\n",
       "      <td>Black/Tan</td>\n",
       "      <td>2021-07-17</td>\n",
       "      <td>04:38:00</td>\n",
       "      <td>PM</td>\n",
       "      <td>24.000000</td>\n",
       "    </tr>\n",
       "    <tr>\n",
       "      <th>128723</th>\n",
       "      <td>A837464</td>\n",
       "      <td>Unknown</td>\n",
       "      <td>04/18/2021</td>\n",
       "      <td>Adoption</td>\n",
       "      <td>Foster</td>\n",
       "      <td>Cat</td>\n",
       "      <td>Spayed Female</td>\n",
       "      <td>2 months</td>\n",
       "      <td>Domestic Shorthair</td>\n",
       "      <td>Tortie</td>\n",
       "      <td>2021-07-17</td>\n",
       "      <td>01:56:00</td>\n",
       "      <td>PM</td>\n",
       "      <td>2.000000</td>\n",
       "    </tr>\n",
       "    <tr>\n",
       "      <th>128739</th>\n",
       "      <td>A835249</td>\n",
       "      <td>Taffy</td>\n",
       "      <td>11/25/2017</td>\n",
       "      <td>Adoption</td>\n",
       "      <td>No Subtype</td>\n",
       "      <td>Dog</td>\n",
       "      <td>Spayed Female</td>\n",
       "      <td>3 years</td>\n",
       "      <td>Great Pyrenees Mix</td>\n",
       "      <td>White/Brown</td>\n",
       "      <td>2021-07-17</td>\n",
       "      <td>04:19:00</td>\n",
       "      <td>PM</td>\n",
       "      <td>36.000000</td>\n",
       "    </tr>\n",
       "  </tbody>\n",
       "</table>\n",
       "<p>128724 rows × 14 columns</p>\n",
       "</div>"
      ],
      "text/plain": [
       "       animal_id     name date_of_birth    out_type out_subtype animal_type  \\\n",
       "67181    A664261  Unknown    09/10/2013    Transfer     Partner         Cat   \n",
       "48547    A663342     Deco    09/17/2012  Euthanasia    Behavior         Dog   \n",
       "48441    A656894     Jake    04/22/2013    Adoption  No Subtype         Cat   \n",
       "46141    A664235  Unknown    09/24/2013    Transfer     Partner         Cat   \n",
       "107465   A663888  Unknown    09/25/2011    Transfer     Partner         Dog   \n",
       "...          ...      ...           ...         ...         ...         ...   \n",
       "128708   A831547      Leo    03/01/2021    Adoption      Foster         Cat   \n",
       "128707   A831545    April    03/01/2021    Adoption      Foster         Cat   \n",
       "128738   A835526     Lily    05/28/2019    Adoption  No Subtype         Dog   \n",
       "128723   A837464  Unknown    04/18/2021    Adoption      Foster         Cat   \n",
       "128739   A835249    Taffy    11/25/2017    Adoption  No Subtype         Dog   \n",
       "\n",
       "              out_sex   out_age                   breed         color  \\\n",
       "67181   Intact Female   3 weeks  Domestic Shorthair Mix        Tortie   \n",
       "48547   Neutered Male    1 year      Chesa Bay Retr Mix     Red/White   \n",
       "48441   Neutered Male  5 months  Domestic Shorthair Mix         Black   \n",
       "46141         Unknown    1 week  Domestic Shorthair Mix  Orange/White   \n",
       "107465  Spayed Female   2 years               Boxer Mix     Red/White   \n",
       "...               ...       ...                     ...           ...   \n",
       "128708  Neutered Male  4 months      Domestic Shorthair   Black/White   \n",
       "128707  Spayed Female  4 months      Domestic Shorthair   Black/White   \n",
       "128738  Spayed Female   2 years         German Shepherd     Black/Tan   \n",
       "128723  Spayed Female  2 months      Domestic Shorthair        Tortie   \n",
       "128739  Spayed Female   3 years      Great Pyrenees Mix   White/Brown   \n",
       "\n",
       "         out_date out_time1 out_time2   out_age2  \n",
       "67181  2013-10-01  01:00:00        PM   0.700000  \n",
       "48547  2013-10-01  12:05:00        PM  12.000000  \n",
       "48441  2013-10-01  11:53:00        AM   5.000000  \n",
       "46141  2013-10-01  10:39:00        AM   0.233333  \n",
       "107465 2013-10-01  11:13:00        AM  24.000000  \n",
       "...           ...       ...       ...        ...  \n",
       "128708 2021-07-17  09:48:00        AM   4.000000  \n",
       "128707 2021-07-17  09:48:00        AM   4.000000  \n",
       "128738 2021-07-17  04:38:00        PM  24.000000  \n",
       "128723 2021-07-17  01:56:00        PM   2.000000  \n",
       "128739 2021-07-17  04:19:00        PM  36.000000  \n",
       "\n",
       "[128724 rows x 14 columns]"
      ]
     },
     "execution_count": 20,
     "metadata": {},
     "output_type": "execute_result"
    }
   ],
   "source": [
    "data"
   ]
  },
  {
   "cell_type": "code",
   "execution_count": null,
   "id": "subtle-counter",
   "metadata": {},
   "outputs": [],
   "source": []
  },
  {
   "cell_type": "code",
   "execution_count": null,
   "id": "interior-alpha",
   "metadata": {},
   "outputs": [],
   "source": []
  },
  {
   "cell_type": "markdown",
   "id": "circular-springer",
   "metadata": {},
   "source": [
    "<b>EXPORT data</b>"
   ]
  },
  {
   "cell_type": "code",
   "execution_count": 21,
   "id": "adequate-joseph",
   "metadata": {},
   "outputs": [],
   "source": [
    "data.to_csv(\"preprocessed_AnimalCenter-Outcomes.csv\", index=False)"
   ]
  },
  {
   "cell_type": "code",
   "execution_count": null,
   "id": "metallic-rabbit",
   "metadata": {},
   "outputs": [],
   "source": []
  }
 ],
 "metadata": {
  "kernelspec": {
   "display_name": "Python 3",
   "language": "python",
   "name": "python3"
  },
  "language_info": {
   "codemirror_mode": {
    "name": "ipython",
    "version": 3
   },
   "file_extension": ".py",
   "mimetype": "text/x-python",
   "name": "python",
   "nbconvert_exporter": "python",
   "pygments_lexer": "ipython3",
   "version": "3.8.5"
  }
 },
 "nbformat": 4,
 "nbformat_minor": 5
}
