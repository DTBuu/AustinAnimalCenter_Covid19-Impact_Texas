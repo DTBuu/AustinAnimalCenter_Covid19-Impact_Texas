{
 "cells": [
  {
   "cell_type": "code",
   "execution_count": 1,
   "id": "65eb083c",
   "metadata": {},
   "outputs": [],
   "source": [
    "import numpy as np\n",
    "import pandas as pd"
   ]
  },
  {
   "cell_type": "code",
   "execution_count": 2,
   "id": "619a64c2",
   "metadata": {},
   "outputs": [],
   "source": [
    "# 0\n",
    "case_confirmed = pd.read_csv(\"https://raw.githubusercontent.com/CSSEGISandData/COVID-19/master/csse_covid_19_data/csse_covid_19_time_series/time_series_covid19_confirmed_US.csv\")\n",
    "case_deaths = pd.read_csv(\"https://raw.githubusercontent.com/CSSEGISandData/COVID-19/master/csse_covid_19_data/csse_covid_19_time_series/time_series_covid19_deaths_US.csv\")\n",
    "vacc_vaccinated = pd.read_csv(\"https://raw.githubusercontent.com/govex/COVID-19/master/data_tables/vaccine_data/us_data/time_series/people_vaccinated_us_timeline.csv\")"
   ]
  },
  {
   "cell_type": "code",
   "execution_count": 3,
   "id": "8eb12f6b",
   "metadata": {},
   "outputs": [],
   "source": [
    "# 1\n",
    "data1 = case_confirmed[case_confirmed[\"FIPS\"]==48015].copy()\n",
    "data2 = case_deaths[case_deaths[\"FIPS\"]==48015].copy()\n",
    "data3 = vacc_vaccinated[(vacc_vaccinated[\"Province_State\"]==\"Texas\")].copy()"
   ]
  },
  {
   "cell_type": "code",
   "execution_count": 4,
   "id": "eb71d90a",
   "metadata": {},
   "outputs": [],
   "source": [
    "# 2\n",
    "data1.drop([\"UID\",\"iso2\",\"iso3\",\"code3\",\"FIPS\",\"Province_State\",\"Country_Region\",\"Lat\",\"Long_\",\"Admin2\"], axis=1, inplace=True)\n",
    "data2.drop([\"UID\",\"iso2\",\"iso3\",\"code3\",\"FIPS\",\"Province_State\",\"Country_Region\",\"Lat\",\"Long_\",\"Admin2\",\"Population\"], axis=1, inplace=True)"
   ]
  },
  {
   "cell_type": "code",
   "execution_count": 5,
   "id": "b710feae",
   "metadata": {},
   "outputs": [],
   "source": [
    "# 3\n",
    "data1.set_index(\"Combined_Key\", inplace=True)\n",
    "data2.set_index(\"Combined_Key\", inplace=True)\n",
    "\n",
    "data1 = data1.transpose()\n",
    "data2 = data2.transpose()\n",
    "\n",
    "data1.reset_index(inplace=True)\n",
    "data2.reset_index(inplace=True)"
   ]
  },
  {
   "cell_type": "code",
   "execution_count": 6,
   "id": "9b766757",
   "metadata": {},
   "outputs": [],
   "source": [
    "# 4\n",
    "data1.rename(columns={\"index\":\"date\", \"Austin, Texas, US\":\"confirmed\"}, inplace=True)\n",
    "data2.rename(columns={\"index\":\"date\", \"Austin, Texas, US\":\"deaths\"}, inplace=True)"
   ]
  },
  {
   "cell_type": "code",
   "execution_count": 7,
   "id": "7d94a0bc",
   "metadata": {},
   "outputs": [
    {
     "data": {
      "text/plain": [
       "0       1/22/20\n",
       "1       1/23/20\n",
       "2       1/24/20\n",
       "3       1/25/20\n",
       "4       1/26/20\n",
       "         ...   \n",
       "625     10/8/21\n",
       "626     10/9/21\n",
       "627    10/10/21\n",
       "628    10/11/21\n",
       "629    10/12/21\n",
       "Name: date, Length: 630, dtype: object"
      ]
     },
     "execution_count": 7,
     "metadata": {},
     "output_type": "execute_result"
    }
   ],
   "source": [
    "data1[\"date\"]"
   ]
  },
  {
   "cell_type": "code",
   "execution_count": 26,
   "id": "16ab44d1",
   "metadata": {},
   "outputs": [],
   "source": [
    "# 5\n",
    "data1[\"date\"] = pd.to_datetime(data1[\"date\"], format=\"%m/%d/%y\")\n",
    "data2[\"date\"] = pd.to_datetime(data2[\"date\"], format=\"%m/%d/%y\")"
   ]
  },
  {
   "cell_type": "code",
   "execution_count": 27,
   "id": "486d9690",
   "metadata": {},
   "outputs": [],
   "source": [
    "# 6\n",
    "data4 = data1.merge(data2, on=\"date\")"
   ]
  },
  {
   "cell_type": "code",
   "execution_count": 28,
   "id": "2a2a5e0f",
   "metadata": {},
   "outputs": [],
   "source": [
    "# 7\n",
    "data3.drop([\"FIPS\",\"Province_State\",\"Country_Region\",\"Lat\",\"Long_\",\"Combined_Key\"] ,axis=1 , inplace=True)"
   ]
  },
  {
   "cell_type": "code",
   "execution_count": 29,
   "id": "02fd7335",
   "metadata": {},
   "outputs": [],
   "source": [
    "# 8\n",
    "data3[\"Date\"] = pd.to_datetime(data3[\"Date\"], format=\"%Y/%m/%d\")"
   ]
  },
  {
   "cell_type": "code",
   "execution_count": 30,
   "id": "0e483da6",
   "metadata": {},
   "outputs": [],
   "source": [
    "# 9\n",
    "data3[\"People_Fully_Vaccinated\"].fillna(0, inplace=True)\n",
    "data3[\"People_Partially_Vaccinated\"].fillna(0, inplace=True)"
   ]
  },
  {
   "cell_type": "code",
   "execution_count": 31,
   "id": "0804adcd",
   "metadata": {},
   "outputs": [],
   "source": [
    "# 10\n",
    "data3.rename(columns={\"Date\":\"date\", \"People_Fully_Vaccinated\":\"fully_vaccinated\", \"People_Partially_Vaccinated\":\"partially_vaccinated\"}, inplace=True)"
   ]
  },
  {
   "cell_type": "code",
   "execution_count": 32,
   "id": "55f36305",
   "metadata": {},
   "outputs": [],
   "source": [
    "# 11\n",
    "data = data4.merge(data3, how=\"left\", on=\"date\")"
   ]
  },
  {
   "cell_type": "code",
   "execution_count": 33,
   "id": "8d0b4bf2",
   "metadata": {},
   "outputs": [
    {
     "data": {
      "text/html": [
       "<div>\n",
       "<style scoped>\n",
       "    .dataframe tbody tr th:only-of-type {\n",
       "        vertical-align: middle;\n",
       "    }\n",
       "\n",
       "    .dataframe tbody tr th {\n",
       "        vertical-align: top;\n",
       "    }\n",
       "\n",
       "    .dataframe thead th {\n",
       "        text-align: right;\n",
       "    }\n",
       "</style>\n",
       "<table border=\"1\" class=\"dataframe\">\n",
       "  <thead>\n",
       "    <tr style=\"text-align: right;\">\n",
       "      <th></th>\n",
       "      <th>date</th>\n",
       "      <th>confirmed</th>\n",
       "      <th>deaths</th>\n",
       "      <th>fully_vaccinated</th>\n",
       "      <th>partially_vaccinated</th>\n",
       "    </tr>\n",
       "  </thead>\n",
       "  <tbody>\n",
       "    <tr>\n",
       "      <th>0</th>\n",
       "      <td>2020-01-22</td>\n",
       "      <td>0</td>\n",
       "      <td>0</td>\n",
       "      <td>NaN</td>\n",
       "      <td>NaN</td>\n",
       "    </tr>\n",
       "    <tr>\n",
       "      <th>1</th>\n",
       "      <td>2020-01-23</td>\n",
       "      <td>0</td>\n",
       "      <td>0</td>\n",
       "      <td>NaN</td>\n",
       "      <td>NaN</td>\n",
       "    </tr>\n",
       "    <tr>\n",
       "      <th>2</th>\n",
       "      <td>2020-01-24</td>\n",
       "      <td>0</td>\n",
       "      <td>0</td>\n",
       "      <td>NaN</td>\n",
       "      <td>NaN</td>\n",
       "    </tr>\n",
       "    <tr>\n",
       "      <th>3</th>\n",
       "      <td>2020-01-25</td>\n",
       "      <td>0</td>\n",
       "      <td>0</td>\n",
       "      <td>NaN</td>\n",
       "      <td>NaN</td>\n",
       "    </tr>\n",
       "    <tr>\n",
       "      <th>4</th>\n",
       "      <td>2020-01-26</td>\n",
       "      <td>0</td>\n",
       "      <td>0</td>\n",
       "      <td>NaN</td>\n",
       "      <td>NaN</td>\n",
       "    </tr>\n",
       "    <tr>\n",
       "      <th>...</th>\n",
       "      <td>...</td>\n",
       "      <td>...</td>\n",
       "      <td>...</td>\n",
       "      <td>...</td>\n",
       "      <td>...</td>\n",
       "    </tr>\n",
       "    <tr>\n",
       "      <th>625</th>\n",
       "      <td>2021-10-08</td>\n",
       "      <td>3352</td>\n",
       "      <td>50</td>\n",
       "      <td>15042917.0</td>\n",
       "      <td>2392224.0</td>\n",
       "    </tr>\n",
       "    <tr>\n",
       "      <th>626</th>\n",
       "      <td>2021-10-09</td>\n",
       "      <td>3352</td>\n",
       "      <td>50</td>\n",
       "      <td>15066224.0</td>\n",
       "      <td>2388509.0</td>\n",
       "    </tr>\n",
       "    <tr>\n",
       "      <th>627</th>\n",
       "      <td>2021-10-10</td>\n",
       "      <td>3352</td>\n",
       "      <td>50</td>\n",
       "      <td>15088526.0</td>\n",
       "      <td>2388509.0</td>\n",
       "    </tr>\n",
       "    <tr>\n",
       "      <th>628</th>\n",
       "      <td>2021-10-11</td>\n",
       "      <td>3352</td>\n",
       "      <td>50</td>\n",
       "      <td>15097347.0</td>\n",
       "      <td>2388509.0</td>\n",
       "    </tr>\n",
       "    <tr>\n",
       "      <th>629</th>\n",
       "      <td>2021-10-12</td>\n",
       "      <td>3352</td>\n",
       "      <td>50</td>\n",
       "      <td>15110705.0</td>\n",
       "      <td>2376236.0</td>\n",
       "    </tr>\n",
       "  </tbody>\n",
       "</table>\n",
       "<p>630 rows × 5 columns</p>\n",
       "</div>"
      ],
      "text/plain": [
       "          date  confirmed  deaths  fully_vaccinated  partially_vaccinated\n",
       "0   2020-01-22          0       0               NaN                   NaN\n",
       "1   2020-01-23          0       0               NaN                   NaN\n",
       "2   2020-01-24          0       0               NaN                   NaN\n",
       "3   2020-01-25          0       0               NaN                   NaN\n",
       "4   2020-01-26          0       0               NaN                   NaN\n",
       "..         ...        ...     ...               ...                   ...\n",
       "625 2021-10-08       3352      50        15042917.0             2392224.0\n",
       "626 2021-10-09       3352      50        15066224.0             2388509.0\n",
       "627 2021-10-10       3352      50        15088526.0             2388509.0\n",
       "628 2021-10-11       3352      50        15097347.0             2388509.0\n",
       "629 2021-10-12       3352      50        15110705.0             2376236.0\n",
       "\n",
       "[630 rows x 5 columns]"
      ]
     },
     "execution_count": 33,
     "metadata": {},
     "output_type": "execute_result"
    }
   ],
   "source": []
  },
  {
   "cell_type": "code",
   "execution_count": 34,
   "id": "e11fff38",
   "metadata": {},
   "outputs": [],
   "source": [
    "# 12\n",
    "data[\"fully_vaccinated\"].fillna(0, inplace=True)\n",
    "data[\"partially_vaccinated\"].fillna(0, inplace=True)"
   ]
  },
  {
   "cell_type": "code",
   "execution_count": 35,
   "id": "0a3f7143",
   "metadata": {},
   "outputs": [
    {
     "name": "stdout",
     "output_type": "stream",
     "text": [
      "<class 'pandas.core.frame.DataFrame'>\n",
      "Int64Index: 630 entries, 0 to 629\n",
      "Data columns (total 5 columns):\n",
      " #   Column                Non-Null Count  Dtype         \n",
      "---  ------                --------------  -----         \n",
      " 0   date                  630 non-null    datetime64[ns]\n",
      " 1   confirmed             630 non-null    int64         \n",
      " 2   deaths                630 non-null    int64         \n",
      " 3   fully_vaccinated      630 non-null    float64       \n",
      " 4   partially_vaccinated  630 non-null    float64       \n",
      "dtypes: datetime64[ns](1), float64(2), int64(2)\n",
      "memory usage: 29.5 KB\n"
     ]
    }
   ],
   "source": []
  },
  {
   "cell_type": "code",
   "execution_count": 36,
   "id": "0fe299d7",
   "metadata": {},
   "outputs": [
    {
     "data": {
      "text/html": [
       "<div>\n",
       "<style scoped>\n",
       "    .dataframe tbody tr th:only-of-type {\n",
       "        vertical-align: middle;\n",
       "    }\n",
       "\n",
       "    .dataframe tbody tr th {\n",
       "        vertical-align: top;\n",
       "    }\n",
       "\n",
       "    .dataframe thead th {\n",
       "        text-align: right;\n",
       "    }\n",
       "</style>\n",
       "<table border=\"1\" class=\"dataframe\">\n",
       "  <thead>\n",
       "    <tr style=\"text-align: right;\">\n",
       "      <th></th>\n",
       "      <th>date</th>\n",
       "      <th>confirmed</th>\n",
       "      <th>deaths</th>\n",
       "      <th>fully_vaccinated</th>\n",
       "      <th>partially_vaccinated</th>\n",
       "    </tr>\n",
       "  </thead>\n",
       "  <tbody>\n",
       "    <tr>\n",
       "      <th>186</th>\n",
       "      <td>2020-07-26</td>\n",
       "      <td>182</td>\n",
       "      <td>4</td>\n",
       "      <td>0.0</td>\n",
       "      <td>0.0</td>\n",
       "    </tr>\n",
       "    <tr>\n",
       "      <th>187</th>\n",
       "      <td>2020-07-27</td>\n",
       "      <td>193</td>\n",
       "      <td>4</td>\n",
       "      <td>0.0</td>\n",
       "      <td>0.0</td>\n",
       "    </tr>\n",
       "    <tr>\n",
       "      <th>188</th>\n",
       "      <td>2020-07-28</td>\n",
       "      <td>202</td>\n",
       "      <td>5</td>\n",
       "      <td>0.0</td>\n",
       "      <td>0.0</td>\n",
       "    </tr>\n",
       "    <tr>\n",
       "      <th>189</th>\n",
       "      <td>2020-07-29</td>\n",
       "      <td>209</td>\n",
       "      <td>5</td>\n",
       "      <td>0.0</td>\n",
       "      <td>0.0</td>\n",
       "    </tr>\n",
       "    <tr>\n",
       "      <th>190</th>\n",
       "      <td>2020-07-30</td>\n",
       "      <td>211</td>\n",
       "      <td>3</td>\n",
       "      <td>0.0</td>\n",
       "      <td>0.0</td>\n",
       "    </tr>\n",
       "    <tr>\n",
       "      <th>...</th>\n",
       "      <td>...</td>\n",
       "      <td>...</td>\n",
       "      <td>...</td>\n",
       "      <td>...</td>\n",
       "      <td>...</td>\n",
       "    </tr>\n",
       "    <tr>\n",
       "      <th>625</th>\n",
       "      <td>2021-10-08</td>\n",
       "      <td>3352</td>\n",
       "      <td>50</td>\n",
       "      <td>15042917.0</td>\n",
       "      <td>2392224.0</td>\n",
       "    </tr>\n",
       "    <tr>\n",
       "      <th>626</th>\n",
       "      <td>2021-10-09</td>\n",
       "      <td>3352</td>\n",
       "      <td>50</td>\n",
       "      <td>15066224.0</td>\n",
       "      <td>2388509.0</td>\n",
       "    </tr>\n",
       "    <tr>\n",
       "      <th>627</th>\n",
       "      <td>2021-10-10</td>\n",
       "      <td>3352</td>\n",
       "      <td>50</td>\n",
       "      <td>15088526.0</td>\n",
       "      <td>2388509.0</td>\n",
       "    </tr>\n",
       "    <tr>\n",
       "      <th>628</th>\n",
       "      <td>2021-10-11</td>\n",
       "      <td>3352</td>\n",
       "      <td>50</td>\n",
       "      <td>15097347.0</td>\n",
       "      <td>2388509.0</td>\n",
       "    </tr>\n",
       "    <tr>\n",
       "      <th>629</th>\n",
       "      <td>2021-10-12</td>\n",
       "      <td>3352</td>\n",
       "      <td>50</td>\n",
       "      <td>15110705.0</td>\n",
       "      <td>2376236.0</td>\n",
       "    </tr>\n",
       "  </tbody>\n",
       "</table>\n",
       "<p>444 rows × 5 columns</p>\n",
       "</div>"
      ],
      "text/plain": [
       "          date  confirmed  deaths  fully_vaccinated  partially_vaccinated\n",
       "186 2020-07-26        182       4               0.0                   0.0\n",
       "187 2020-07-27        193       4               0.0                   0.0\n",
       "188 2020-07-28        202       5               0.0                   0.0\n",
       "189 2020-07-29        209       5               0.0                   0.0\n",
       "190 2020-07-30        211       3               0.0                   0.0\n",
       "..         ...        ...     ...               ...                   ...\n",
       "625 2021-10-08       3352      50        15042917.0             2392224.0\n",
       "626 2021-10-09       3352      50        15066224.0             2388509.0\n",
       "627 2021-10-10       3352      50        15088526.0             2388509.0\n",
       "628 2021-10-11       3352      50        15097347.0             2388509.0\n",
       "629 2021-10-12       3352      50        15110705.0             2376236.0\n",
       "\n",
       "[444 rows x 5 columns]"
      ]
     },
     "execution_count": 36,
     "metadata": {},
     "output_type": "execute_result"
    }
   ],
   "source": []
  },
  {
   "cell_type": "code",
   "execution_count": 20,
   "id": "f46388fa",
   "metadata": {},
   "outputs": [],
   "source": [
    "# intakes = pd.read_csv(\"preprocessed_AnimalCenter-AustinTX_Intakes.csv\")\n",
    "# outcomes = pd.read_csv(\"preprocessed_AnimalCenter-AustinTX_Outcomes.csv\")"
   ]
  },
  {
   "cell_type": "code",
   "execution_count": 21,
   "id": "10bd4c36",
   "metadata": {},
   "outputs": [],
   "source": [
    "# inn = intakes[[\"animal_id\", \"in_date\", \"in_age2\"]].copy()"
   ]
  },
  {
   "cell_type": "code",
   "execution_count": 22,
   "id": "e61561d1",
   "metadata": {},
   "outputs": [],
   "source": [
    "# inn.groupby(\"in_date\").count()"
   ]
  },
  {
   "cell_type": "code",
   "execution_count": null,
   "id": "feed5c92",
   "metadata": {},
   "outputs": [],
   "source": []
  },
  {
   "cell_type": "code",
   "execution_count": 23,
   "id": "67c10858",
   "metadata": {},
   "outputs": [],
   "source": [
    "# 13\n",
    "data.to_csv(\"preprocessed_Covid19-Texas.csv\", index=True)"
   ]
  },
  {
   "cell_type": "code",
   "execution_count": null,
   "id": "535d6efe",
   "metadata": {},
   "outputs": [],
   "source": []
  }
 ],
 "metadata": {
  "interpreter": {
   "hash": "c0a65c7804c83d5d29490780502c39d7f89ea76be701bbc396a15b3b8f16e33c"
  },
  "kernelspec": {
   "display_name": "Python 3",
   "language": "python",
   "name": "python3"
  },
  "language_info": {
   "codemirror_mode": {
    "name": "ipython",
    "version": 3
   },
   "file_extension": ".py",
   "mimetype": "text/x-python",
   "name": "python",
   "nbconvert_exporter": "python",
   "pygments_lexer": "ipython3",
   "version": "3.9.0"
  }
 },
 "nbformat": 4,
 "nbformat_minor": 5
}
